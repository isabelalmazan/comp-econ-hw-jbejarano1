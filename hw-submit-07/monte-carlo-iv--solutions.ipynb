{
 "cells": [
  {
   "cell_type": "markdown",
   "metadata": {},
   "source": [
    "# Instrumental Variables Monte Carlo Simulation\n",
    "\n",
    "This exercise will have you will run a Monte Carlo experiment to demonstrate the bias from an endogenous regressor and how the instrumental variable procedure can remedy the situation.\n",
    "\n",
    "**4 points each**\n"
   ]
  },
  {
   "cell_type": "markdown",
   "metadata": {},
   "source": [
    "#### Q1. Write a function that generates data from the following data generating process.\n",
    "\n",
    "Generate data from the following data generating process. Let\n",
    "\\begin{gather}\n",
    "x_1 = \\gamma_0 + \\gamma_1 z_1 + u \\\\\n",
    "y = \\beta_0 + \\beta_1 x_1 + \\epsilon,\n",
    "\\end{gather}\n",
    "where \n",
    " - the covariance between $\\epsilon$ and $u$ is 1/2,\n",
    " - the covariance between $z_1$ and $\\epsilon$ is 0,\n",
    " - and let $u$, $z_1$, and $\\epsilon$ be Normally distributed (jointly, let them be a multivariate Normal). Let them be mean zero with covariance between pairs to be 0, unless otherwise stated above. Let the variance of each be 1.\n",
    " \n",
    "Let $\\beta_0 = \\beta_1 = \\gamma_0 = \\gamma_1 =1$.\n",
    "\n",
    "The function should take in `N`, the size of the resulting sample. It should return a pandas DataFrame."
   ]
  },
  {
   "cell_type": "code",
   "execution_count": 1,
   "metadata": {},
   "outputs": [],
   "source": [
    "import numpy as np\n",
    "np.set_printoptions(suppress=True, precision=2)\n",
    "import pandas as pd\n",
    "\n",
    "def generate_data(N=50):\n",
    "    mean = np.array([0,0,0])\n",
    "    cov = np.array([[1, 0, .5],\n",
    "                    [0, 1, 0],\n",
    "                    [.5, 0, 1]])\n",
    "    vec = np.random.multivariate_normal(mean, cov, N)\n",
    "    df = pd.DataFrame(vec, columns=['u', 'z1', 'epsilon'])\n",
    "    beta0 = beta1 = gamma0 = gamma1 = 1\n",
    "    beta2 = 2\n",
    "    df['x1'] = gamma0 + gamma1 * df.z1 + df.u\n",
    "    df['y'] = beta0 + beta1 * df.x1 + df.epsilon\n",
    "    return df"
   ]
  },
  {
   "cell_type": "code",
   "execution_count": 2,
   "metadata": {},
   "outputs": [
    {
     "data": {
      "text/html": [
       "<div>\n",
       "<style scoped>\n",
       "    .dataframe tbody tr th:only-of-type {\n",
       "        vertical-align: middle;\n",
       "    }\n",
       "\n",
       "    .dataframe tbody tr th {\n",
       "        vertical-align: top;\n",
       "    }\n",
       "\n",
       "    .dataframe thead th {\n",
       "        text-align: right;\n",
       "    }\n",
       "</style>\n",
       "<table border=\"1\" class=\"dataframe\">\n",
       "  <thead>\n",
       "    <tr style=\"text-align: right;\">\n",
       "      <th></th>\n",
       "      <th>u</th>\n",
       "      <th>z1</th>\n",
       "      <th>epsilon</th>\n",
       "      <th>x1</th>\n",
       "      <th>y</th>\n",
       "    </tr>\n",
       "  </thead>\n",
       "  <tbody>\n",
       "    <tr>\n",
       "      <th>0</th>\n",
       "      <td>-0.254626</td>\n",
       "      <td>0.368862</td>\n",
       "      <td>-0.451050</td>\n",
       "      <td>1.114236</td>\n",
       "      <td>1.663185</td>\n",
       "    </tr>\n",
       "    <tr>\n",
       "      <th>1</th>\n",
       "      <td>-2.213827</td>\n",
       "      <td>-0.029624</td>\n",
       "      <td>-1.025808</td>\n",
       "      <td>-1.243450</td>\n",
       "      <td>-1.269258</td>\n",
       "    </tr>\n",
       "    <tr>\n",
       "      <th>2</th>\n",
       "      <td>-1.014797</td>\n",
       "      <td>-0.424108</td>\n",
       "      <td>-0.214698</td>\n",
       "      <td>-0.438905</td>\n",
       "      <td>0.346397</td>\n",
       "    </tr>\n",
       "    <tr>\n",
       "      <th>3</th>\n",
       "      <td>0.040090</td>\n",
       "      <td>0.973366</td>\n",
       "      <td>0.540609</td>\n",
       "      <td>2.013456</td>\n",
       "      <td>3.554065</td>\n",
       "    </tr>\n",
       "    <tr>\n",
       "      <th>4</th>\n",
       "      <td>0.738014</td>\n",
       "      <td>-0.074320</td>\n",
       "      <td>1.050628</td>\n",
       "      <td>1.663694</td>\n",
       "      <td>3.714322</td>\n",
       "    </tr>\n",
       "  </tbody>\n",
       "</table>\n",
       "</div>"
      ],
      "text/plain": [
       "          u        z1   epsilon        x1         y\n",
       "0 -0.254626  0.368862 -0.451050  1.114236  1.663185\n",
       "1 -2.213827 -0.029624 -1.025808 -1.243450 -1.269258\n",
       "2 -1.014797 -0.424108 -0.214698 -0.438905  0.346397\n",
       "3  0.040090  0.973366  0.540609  2.013456  3.554065\n",
       "4  0.738014 -0.074320  1.050628  1.663694  3.714322"
      ]
     },
     "execution_count": 2,
     "metadata": {},
     "output_type": "execute_result"
    }
   ],
   "source": [
    "df = generate_data(N=50)\n",
    "df.head()"
   ]
  },
  {
   "cell_type": "markdown",
   "metadata": {},
   "source": [
    "#### Q2. Generate a single dataset and demonstrate OLS\n",
    "\n",
    "Set the seed to `100` by running `np.random.seed(100)`. Then generate a single dataset with `N=100`. Use OLS to regress `y` on `x1` (including a constant). Do this using `statsmodels`. Do this once using the normal api and once using the formula api. Are our estimates biased?"
   ]
  },
  {
   "cell_type": "code",
   "execution_count": 3,
   "metadata": {},
   "outputs": [
    {
     "name": "stderr",
     "output_type": "stream",
     "text": [
      "C:\\Users\\Jeremy\\Anaconda3\\lib\\site-packages\\statsmodels\\compat\\pandas.py:56: FutureWarning: The pandas.core.datetools module is deprecated and will be removed in a future version. Please use the pandas.tseries module instead.\n",
      "  from pandas.core import datetools\n"
     ]
    }
   ],
   "source": [
    "import statsmodels.api as sm\n",
    "import statsmodels.formula.api as smf"
   ]
  },
  {
   "cell_type": "code",
   "execution_count": 4,
   "metadata": {},
   "outputs": [],
   "source": [
    "np.random.seed(100)\n",
    "df = generate_data(N=100)"
   ]
  },
  {
   "cell_type": "code",
   "execution_count": 5,
   "metadata": {},
   "outputs": [
    {
     "data": {
      "text/html": [
       "<table class=\"simpletable\">\n",
       "<caption>OLS Regression Results</caption>\n",
       "<tr>\n",
       "  <th>Dep. Variable:</th>            <td>y</td>        <th>  R-squared:         </th> <td>   0.739</td>\n",
       "</tr>\n",
       "<tr>\n",
       "  <th>Model:</th>                   <td>OLS</td>       <th>  Adj. R-squared:    </th> <td>   0.736</td>\n",
       "</tr>\n",
       "<tr>\n",
       "  <th>Method:</th>             <td>Least Squares</td>  <th>  F-statistic:       </th> <td>   277.0</td>\n",
       "</tr>\n",
       "<tr>\n",
       "  <th>Date:</th>             <td>Fri, 18 May 2018</td> <th>  Prob (F-statistic):</th> <td>2.59e-30</td>\n",
       "</tr>\n",
       "<tr>\n",
       "  <th>Time:</th>                 <td>01:46:57</td>     <th>  Log-Likelihood:    </th> <td> -144.27</td>\n",
       "</tr>\n",
       "<tr>\n",
       "  <th>No. Observations:</th>      <td>   100</td>      <th>  AIC:               </th> <td>   292.5</td>\n",
       "</tr>\n",
       "<tr>\n",
       "  <th>Df Residuals:</th>          <td>    98</td>      <th>  BIC:               </th> <td>   297.8</td>\n",
       "</tr>\n",
       "<tr>\n",
       "  <th>Df Model:</th>              <td>     1</td>      <th>                     </th>     <td> </td>   \n",
       "</tr>\n",
       "<tr>\n",
       "  <th>Covariance Type:</th>      <td>nonrobust</td>    <th>                     </th>     <td> </td>   \n",
       "</tr>\n",
       "</table>\n",
       "<table class=\"simpletable\">\n",
       "<tr>\n",
       "    <td></td>       <th>coef</th>     <th>std err</th>      <th>t</th>      <th>P>|t|</th>  <th>[0.025</th>    <th>0.975]</th>  \n",
       "</tr>\n",
       "<tr>\n",
       "  <th>const</th> <td>    0.8040</td> <td>    0.134</td> <td>    5.987</td> <td> 0.000</td> <td>    0.538</td> <td>    1.071</td>\n",
       "</tr>\n",
       "<tr>\n",
       "  <th>x1</th>    <td>    1.2215</td> <td>    0.073</td> <td>   16.643</td> <td> 0.000</td> <td>    1.076</td> <td>    1.367</td>\n",
       "</tr>\n",
       "</table>\n",
       "<table class=\"simpletable\">\n",
       "<tr>\n",
       "  <th>Omnibus:</th>       <td> 1.625</td> <th>  Durbin-Watson:     </th> <td>   1.982</td>\n",
       "</tr>\n",
       "<tr>\n",
       "  <th>Prob(Omnibus):</th> <td> 0.444</td> <th>  Jarque-Bera (JB):  </th> <td>   1.074</td>\n",
       "</tr>\n",
       "<tr>\n",
       "  <th>Skew:</th>          <td>-0.151</td> <th>  Prob(JB):          </th> <td>   0.585</td>\n",
       "</tr>\n",
       "<tr>\n",
       "  <th>Kurtosis:</th>      <td> 3.408</td> <th>  Cond. No.          </th> <td>    2.72</td>\n",
       "</tr>\n",
       "</table>"
      ],
      "text/plain": [
       "<class 'statsmodels.iolib.summary.Summary'>\n",
       "\"\"\"\n",
       "                            OLS Regression Results                            \n",
       "==============================================================================\n",
       "Dep. Variable:                      y   R-squared:                       0.739\n",
       "Model:                            OLS   Adj. R-squared:                  0.736\n",
       "Method:                 Least Squares   F-statistic:                     277.0\n",
       "Date:                Fri, 18 May 2018   Prob (F-statistic):           2.59e-30\n",
       "Time:                        01:46:57   Log-Likelihood:                -144.27\n",
       "No. Observations:                 100   AIC:                             292.5\n",
       "Df Residuals:                      98   BIC:                             297.8\n",
       "Df Model:                           1                                         \n",
       "Covariance Type:            nonrobust                                         \n",
       "==============================================================================\n",
       "                 coef    std err          t      P>|t|      [0.025      0.975]\n",
       "------------------------------------------------------------------------------\n",
       "const          0.8040      0.134      5.987      0.000       0.538       1.071\n",
       "x1             1.2215      0.073     16.643      0.000       1.076       1.367\n",
       "==============================================================================\n",
       "Omnibus:                        1.625   Durbin-Watson:                   1.982\n",
       "Prob(Omnibus):                  0.444   Jarque-Bera (JB):                1.074\n",
       "Skew:                          -0.151   Prob(JB):                        0.585\n",
       "Kurtosis:                       3.408   Cond. No.                         2.72\n",
       "==============================================================================\n",
       "\n",
       "Warnings:\n",
       "[1] Standard Errors assume that the covariance matrix of the errors is correctly specified.\n",
       "\"\"\""
      ]
     },
     "execution_count": 5,
     "metadata": {},
     "output_type": "execute_result"
    }
   ],
   "source": [
    "endog = df.y\n",
    "exog = sm.add_constant(df.x1)\n",
    "reg = sm.OLS(endog=endog, exog=exog).fit()\n",
    "reg.summary()"
   ]
  },
  {
   "cell_type": "code",
   "execution_count": 6,
   "metadata": {},
   "outputs": [
    {
     "data": {
      "text/html": [
       "<table class=\"simpletable\">\n",
       "<caption>OLS Regression Results</caption>\n",
       "<tr>\n",
       "  <th>Dep. Variable:</th>            <td>y</td>        <th>  R-squared:         </th> <td>   0.739</td>\n",
       "</tr>\n",
       "<tr>\n",
       "  <th>Model:</th>                   <td>OLS</td>       <th>  Adj. R-squared:    </th> <td>   0.736</td>\n",
       "</tr>\n",
       "<tr>\n",
       "  <th>Method:</th>             <td>Least Squares</td>  <th>  F-statistic:       </th> <td>   277.0</td>\n",
       "</tr>\n",
       "<tr>\n",
       "  <th>Date:</th>             <td>Fri, 18 May 2018</td> <th>  Prob (F-statistic):</th> <td>2.59e-30</td>\n",
       "</tr>\n",
       "<tr>\n",
       "  <th>Time:</th>                 <td>01:46:57</td>     <th>  Log-Likelihood:    </th> <td> -144.27</td>\n",
       "</tr>\n",
       "<tr>\n",
       "  <th>No. Observations:</th>      <td>   100</td>      <th>  AIC:               </th> <td>   292.5</td>\n",
       "</tr>\n",
       "<tr>\n",
       "  <th>Df Residuals:</th>          <td>    98</td>      <th>  BIC:               </th> <td>   297.8</td>\n",
       "</tr>\n",
       "<tr>\n",
       "  <th>Df Model:</th>              <td>     1</td>      <th>                     </th>     <td> </td>   \n",
       "</tr>\n",
       "<tr>\n",
       "  <th>Covariance Type:</th>      <td>nonrobust</td>    <th>                     </th>     <td> </td>   \n",
       "</tr>\n",
       "</table>\n",
       "<table class=\"simpletable\">\n",
       "<tr>\n",
       "      <td></td>         <th>coef</th>     <th>std err</th>      <th>t</th>      <th>P>|t|</th>  <th>[0.025</th>    <th>0.975]</th>  \n",
       "</tr>\n",
       "<tr>\n",
       "  <th>Intercept</th> <td>    0.8040</td> <td>    0.134</td> <td>    5.987</td> <td> 0.000</td> <td>    0.538</td> <td>    1.071</td>\n",
       "</tr>\n",
       "<tr>\n",
       "  <th>x1</th>        <td>    1.2215</td> <td>    0.073</td> <td>   16.643</td> <td> 0.000</td> <td>    1.076</td> <td>    1.367</td>\n",
       "</tr>\n",
       "</table>\n",
       "<table class=\"simpletable\">\n",
       "<tr>\n",
       "  <th>Omnibus:</th>       <td> 1.625</td> <th>  Durbin-Watson:     </th> <td>   1.982</td>\n",
       "</tr>\n",
       "<tr>\n",
       "  <th>Prob(Omnibus):</th> <td> 0.444</td> <th>  Jarque-Bera (JB):  </th> <td>   1.074</td>\n",
       "</tr>\n",
       "<tr>\n",
       "  <th>Skew:</th>          <td>-0.151</td> <th>  Prob(JB):          </th> <td>   0.585</td>\n",
       "</tr>\n",
       "<tr>\n",
       "  <th>Kurtosis:</th>      <td> 3.408</td> <th>  Cond. No.          </th> <td>    2.72</td>\n",
       "</tr>\n",
       "</table>"
      ],
      "text/plain": [
       "<class 'statsmodels.iolib.summary.Summary'>\n",
       "\"\"\"\n",
       "                            OLS Regression Results                            \n",
       "==============================================================================\n",
       "Dep. Variable:                      y   R-squared:                       0.739\n",
       "Model:                            OLS   Adj. R-squared:                  0.736\n",
       "Method:                 Least Squares   F-statistic:                     277.0\n",
       "Date:                Fri, 18 May 2018   Prob (F-statistic):           2.59e-30\n",
       "Time:                        01:46:57   Log-Likelihood:                -144.27\n",
       "No. Observations:                 100   AIC:                             292.5\n",
       "Df Residuals:                      98   BIC:                             297.8\n",
       "Df Model:                           1                                         \n",
       "Covariance Type:            nonrobust                                         \n",
       "==============================================================================\n",
       "                 coef    std err          t      P>|t|      [0.025      0.975]\n",
       "------------------------------------------------------------------------------\n",
       "Intercept      0.8040      0.134      5.987      0.000       0.538       1.071\n",
       "x1             1.2215      0.073     16.643      0.000       1.076       1.367\n",
       "==============================================================================\n",
       "Omnibus:                        1.625   Durbin-Watson:                   1.982\n",
       "Prob(Omnibus):                  0.444   Jarque-Bera (JB):                1.074\n",
       "Skew:                          -0.151   Prob(JB):                        0.585\n",
       "Kurtosis:                       3.408   Cond. No.                         2.72\n",
       "==============================================================================\n",
       "\n",
       "Warnings:\n",
       "[1] Standard Errors assume that the covariance matrix of the errors is correctly specified.\n",
       "\"\"\""
      ]
     },
     "execution_count": 6,
     "metadata": {},
     "output_type": "execute_result"
    }
   ],
   "source": [
    "reg = smf.ols('y ~ x1', df).fit()\n",
    "reg.summary()"
   ]
  },
  {
   "cell_type": "markdown",
   "metadata": {},
   "source": [
    "#### Q3. For the regression above, derive the expression for the bias of the estimate of $\\beta_1$ (in the probability limit).\n",
    "\n",
    "Write the derivation of the expression in a markdown cell below. Use LaTeX math to write out the expression. Use the numbers we gave above to calculate the bias."
   ]
  },
  {
   "cell_type": "markdown",
   "metadata": {},
   "source": [
    "SOLUTION:\n",
    "\n",
    "$$\n",
    "\\tilde \\beta_1 \\overset{p}{\\rightarrow} \\beta_1 + \\frac{Cov(\\epsilon, x_1)}{Var(x_1)} \n",
    "= \\beta_1 + \\frac{Cov(\\epsilon, u)}{Var(x_1)} = \\beta_1 + 1/2\n",
    "$$\n",
    "\n",
    "The bias in the limit is 1/2."
   ]
  },
  {
   "cell_type": "markdown",
   "metadata": {},
   "source": [
    "#### Q4. Estimate the model using `z1` as an instrument.\n",
    "\n",
    "Use the `linearmodels` package to estimate the same model, but using `z1` as an instrument. Use the formula api and use 2 stage least squares. (Note: Don't forget to include the intercept.)"
   ]
  },
  {
   "cell_type": "code",
   "execution_count": 7,
   "metadata": {},
   "outputs": [],
   "source": [
    "import linearmodels"
   ]
  },
  {
   "cell_type": "code",
   "execution_count": 8,
   "metadata": {},
   "outputs": [
    {
     "data": {
      "text/html": [
       "<div>\n",
       "<style scoped>\n",
       "    .dataframe tbody tr th:only-of-type {\n",
       "        vertical-align: middle;\n",
       "    }\n",
       "\n",
       "    .dataframe tbody tr th {\n",
       "        vertical-align: top;\n",
       "    }\n",
       "\n",
       "    .dataframe thead th {\n",
       "        text-align: right;\n",
       "    }\n",
       "</style>\n",
       "<table border=\"1\" class=\"dataframe\">\n",
       "  <thead>\n",
       "    <tr style=\"text-align: right;\">\n",
       "      <th></th>\n",
       "      <th>u</th>\n",
       "      <th>z1</th>\n",
       "      <th>epsilon</th>\n",
       "      <th>x1</th>\n",
       "      <th>y</th>\n",
       "    </tr>\n",
       "  </thead>\n",
       "  <tbody>\n",
       "    <tr>\n",
       "      <th>0</th>\n",
       "      <td>2.091859</td>\n",
       "      <td>-0.342680</td>\n",
       "      <td>0.938823</td>\n",
       "      <td>2.749179</td>\n",
       "      <td>4.688002</td>\n",
       "    </tr>\n",
       "    <tr>\n",
       "      <th>1</th>\n",
       "      <td>0.475725</td>\n",
       "      <td>-0.981321</td>\n",
       "      <td>-0.038493</td>\n",
       "      <td>0.494405</td>\n",
       "      <td>1.455911</td>\n",
       "    </tr>\n",
       "    <tr>\n",
       "      <th>2</th>\n",
       "      <td>-0.286295</td>\n",
       "      <td>1.070043</td>\n",
       "      <td>-0.096799</td>\n",
       "      <td>1.783748</td>\n",
       "      <td>2.686949</td>\n",
       "    </tr>\n",
       "    <tr>\n",
       "      <th>3</th>\n",
       "      <td>-0.003256</td>\n",
       "      <td>0.458027</td>\n",
       "      <td>-0.438419</td>\n",
       "      <td>1.454771</td>\n",
       "      <td>2.016352</td>\n",
       "    </tr>\n",
       "    <tr>\n",
       "      <th>4</th>\n",
       "      <td>0.841769</td>\n",
       "      <td>-0.816847</td>\n",
       "      <td>0.169048</td>\n",
       "      <td>1.024921</td>\n",
       "      <td>2.193969</td>\n",
       "    </tr>\n",
       "  </tbody>\n",
       "</table>\n",
       "</div>"
      ],
      "text/plain": [
       "          u        z1   epsilon        x1         y\n",
       "0  2.091859 -0.342680  0.938823  2.749179  4.688002\n",
       "1  0.475725 -0.981321 -0.038493  0.494405  1.455911\n",
       "2 -0.286295  1.070043 -0.096799  1.783748  2.686949\n",
       "3 -0.003256  0.458027 -0.438419  1.454771  2.016352\n",
       "4  0.841769 -0.816847  0.169048  1.024921  2.193969"
      ]
     },
     "execution_count": 8,
     "metadata": {},
     "output_type": "execute_result"
    }
   ],
   "source": [
    "df.head()"
   ]
  },
  {
   "cell_type": "code",
   "execution_count": 9,
   "metadata": {},
   "outputs": [
    {
     "data": {
      "text/html": [
       "<table class=\"simpletable\">\n",
       "<caption>IV-2SLS Estimation Summary</caption>\n",
       "<tr>\n",
       "  <th>Dep. Variable:</th>            <td>y</td>        <th>  R-squared:         </th> <td>0.6760</td> \n",
       "</tr>\n",
       "<tr>\n",
       "  <th>Estimator:</th>             <td>IV-2SLS</td>     <th>  Adj. R-squared:    </th> <td>0.6727</td> \n",
       "</tr>\n",
       "<tr>\n",
       "  <th>No. Observations:</th>        <td>100</td>       <th>  F-statistic:       </th> <td>64.214</td> \n",
       "</tr>\n",
       "<tr>\n",
       "  <th>Date:</th>             <td>Fri, May 18 2018</td> <th>  P-value (F-stat)   </th> <td>0.0000</td> \n",
       "</tr>\n",
       "<tr>\n",
       "  <th>Time:</th>                 <td>01:46:57</td>     <th>  Distribution:      </th> <td>chi2(1)</td>\n",
       "</tr>\n",
       "<tr>\n",
       "  <th>Cov. Estimator:</th>        <td>robust</td>      <th>                     </th>    <td></td>    \n",
       "</tr>\n",
       "<tr>\n",
       "  <th></th>                          <td></td>         <th>                     </th>    <td></td>    \n",
       "</tr>\n",
       "</table>\n",
       "<table class=\"simpletable\">\n",
       "<caption>Parameter Estimates</caption>\n",
       "<tr>\n",
       "      <td></td>      <th>Parameter</th> <th>Std. Err.</th> <th>T-stat</th> <th>P-value</th> <th>Lower CI</th> <th>Upper CI</th>\n",
       "</tr>\n",
       "<tr>\n",
       "  <th>Intercept</th>  <td>1.2191</td>    <td>0.1668</td>   <td>7.3070</td> <td>0.0000</td>   <td>0.8921</td>   <td>1.5461</td> \n",
       "</tr>\n",
       "<tr>\n",
       "  <th>x1</th>         <td>0.8657</td>    <td>0.1080</td>   <td>8.0133</td> <td>0.0000</td>   <td>0.6540</td>   <td>1.0775</td> \n",
       "</tr>\n",
       "</table><br/><br/>Endogenous: x1<br/>Instruments: z1<br/>Robust Covariance (Heteroskedastic)<br/>Debiased: False<br/>id: 0x28b457c3630"
      ],
      "text/plain": [
       "                          IV-2SLS Estimation Summary                          \n",
       "==============================================================================\n",
       "Dep. Variable:                      y   R-squared:                      0.6760\n",
       "Estimator:                    IV-2SLS   Adj. R-squared:                 0.6727\n",
       "No. Observations:                 100   F-statistic:                    64.214\n",
       "Date:                Fri, May 18 2018   P-value (F-stat)                0.0000\n",
       "Time:                        01:46:57   Distribution:                  chi2(1)\n",
       "Cov. Estimator:                robust                                         \n",
       "                                                                              \n",
       "                             Parameter Estimates                              \n",
       "==============================================================================\n",
       "            Parameter  Std. Err.     T-stat    P-value    Lower CI    Upper CI\n",
       "------------------------------------------------------------------------------\n",
       "Intercept      1.2191     0.1668     7.3070     0.0000      0.8921      1.5461\n",
       "x1             0.8657     0.1080     8.0133     0.0000      0.6540      1.0775\n",
       "==============================================================================\n",
       "\n",
       "Endogenous: x1\n",
       "Instruments: z1\n",
       "Robust Covariance (Heteroskedastic)\n",
       "Debiased: False\n",
       "IVResults, id: 0x28b457c3630"
      ]
     },
     "execution_count": 9,
     "metadata": {},
     "output_type": "execute_result"
    }
   ],
   "source": [
    "reg = linearmodels.IV2SLS.from_formula('y ~ 1+ [x1 ~ z1]', data=df).fit()\n",
    "reg"
   ]
  },
  {
   "cell_type": "code",
   "execution_count": 10,
   "metadata": {},
   "outputs": [
    {
     "data": {
      "text/html": [
       "<div>\n",
       "<style scoped>\n",
       "    .dataframe tbody tr th:only-of-type {\n",
       "        vertical-align: middle;\n",
       "    }\n",
       "\n",
       "    .dataframe tbody tr th {\n",
       "        vertical-align: top;\n",
       "    }\n",
       "\n",
       "    .dataframe thead th {\n",
       "        text-align: right;\n",
       "    }\n",
       "</style>\n",
       "<table border=\"1\" class=\"dataframe\">\n",
       "  <thead>\n",
       "    <tr style=\"text-align: right;\">\n",
       "      <th></th>\n",
       "      <th>u</th>\n",
       "      <th>z1</th>\n",
       "      <th>epsilon</th>\n",
       "      <th>x1</th>\n",
       "      <th>y</th>\n",
       "    </tr>\n",
       "  </thead>\n",
       "  <tbody>\n",
       "    <tr>\n",
       "      <th>0</th>\n",
       "      <td>2.091859</td>\n",
       "      <td>-0.342680</td>\n",
       "      <td>0.938823</td>\n",
       "      <td>2.749179</td>\n",
       "      <td>4.688002</td>\n",
       "    </tr>\n",
       "    <tr>\n",
       "      <th>1</th>\n",
       "      <td>0.475725</td>\n",
       "      <td>-0.981321</td>\n",
       "      <td>-0.038493</td>\n",
       "      <td>0.494405</td>\n",
       "      <td>1.455911</td>\n",
       "    </tr>\n",
       "    <tr>\n",
       "      <th>2</th>\n",
       "      <td>-0.286295</td>\n",
       "      <td>1.070043</td>\n",
       "      <td>-0.096799</td>\n",
       "      <td>1.783748</td>\n",
       "      <td>2.686949</td>\n",
       "    </tr>\n",
       "    <tr>\n",
       "      <th>3</th>\n",
       "      <td>-0.003256</td>\n",
       "      <td>0.458027</td>\n",
       "      <td>-0.438419</td>\n",
       "      <td>1.454771</td>\n",
       "      <td>2.016352</td>\n",
       "    </tr>\n",
       "    <tr>\n",
       "      <th>4</th>\n",
       "      <td>0.841769</td>\n",
       "      <td>-0.816847</td>\n",
       "      <td>0.169048</td>\n",
       "      <td>1.024921</td>\n",
       "      <td>2.193969</td>\n",
       "    </tr>\n",
       "  </tbody>\n",
       "</table>\n",
       "</div>"
      ],
      "text/plain": [
       "          u        z1   epsilon        x1         y\n",
       "0  2.091859 -0.342680  0.938823  2.749179  4.688002\n",
       "1  0.475725 -0.981321 -0.038493  0.494405  1.455911\n",
       "2 -0.286295  1.070043 -0.096799  1.783748  2.686949\n",
       "3 -0.003256  0.458027 -0.438419  1.454771  2.016352\n",
       "4  0.841769 -0.816847  0.169048  1.024921  2.193969"
      ]
     },
     "execution_count": 10,
     "metadata": {},
     "output_type": "execute_result"
    }
   ],
   "source": [
    "df.head()"
   ]
  },
  {
   "cell_type": "markdown",
   "metadata": {},
   "source": [
    "#### Q5. When is IV consistent?\n",
    "\n",
    "What assumptions are needed for IV to give consistent estimates? Explain whether or not those assumptions hold in the model that we created above."
   ]
  },
  {
   "cell_type": "markdown",
   "metadata": {},
   "source": [
    "SOLUTION:\n",
    "\n",
    "We need instrument exogeneity and instrument relevance. They both hold according to our model set up above. The instrument $z_1$ is independent of $\\epsilon$ and $z_1$ is correlated with $x_1$."
   ]
  },
  {
   "cell_type": "markdown",
   "metadata": {},
   "source": [
    "#### Q6. Design and implement a Monte Carlo experiment... part 1\n",
    "\n",
    "Design and implement a Monte Carlo experiment to show that the OLS regression that we ran above is biased and *not consistent*. That is, that the bias doesn't go away with higher sample sizes. You have some flexibility in the way you choose to implement this experiment. This doesn't have to be very elaborate---it should just be enough to convince you of this fact. Follow the example from class and use pictures (and a table if you like)."
   ]
  },
  {
   "cell_type": "code",
   "execution_count": 11,
   "metadata": {},
   "outputs": [],
   "source": [
    "from matplotlib import pyplot as plt\n",
    "import seaborn as sns\n",
    "sns.set()"
   ]
  },
  {
   "cell_type": "code",
   "execution_count": 12,
   "metadata": {},
   "outputs": [],
   "source": [
    "def run_mc(estimation_procedure, DGP, M=1000, seed=100):\n",
    "    np.random.seed(seed)\n",
    "    df = DGP()\n",
    "    fitted_params = estimation_procedure(df)\n",
    "    results = pd.DataFrame(index=range(M), columns=fitted_params.index, dtype=np.float)\n",
    "    for m in range(M):\n",
    "        df = DGP()\n",
    "        fitted_params = estimation_procedure(df)\n",
    "        results.loc[m, :] = fitted_params\n",
    "    return results"
   ]
  },
  {
   "cell_type": "code",
   "execution_count": 13,
   "metadata": {},
   "outputs": [],
   "source": [
    "DGP = lambda : generate_data(N=50)\n",
    "estimation_procedure = lambda df: smf.ols('y ~ x1', df).fit().params\n",
    "results_N50 = run_mc(estimation_procedure, DGP)"
   ]
  },
  {
   "cell_type": "code",
   "execution_count": 14,
   "metadata": {},
   "outputs": [
    {
     "data": {
      "image/png": "[encoded data removed]",
      "text/plain": [
       "<Figure size 432x288 with 2 Axes>"
      ]
     },
     "metadata": {},
     "output_type": "display_data"
    }
   ],
   "source": [
    "results_N50.hist();"
   ]
  },
  {
   "cell_type": "code",
   "execution_count": 15,
   "metadata": {},
   "outputs": [],
   "source": [
    "DGP = lambda : generate_data(N=200)\n",
    "results_N200 = run_mc(estimation_procedure, DGP)\n",
    "DGP = lambda : generate_data(N=1000)\n",
    "results_N1000 = run_mc(estimation_procedure, DGP)"
   ]
  },
  {
   "cell_type": "code",
   "execution_count": 16,
   "metadata": {},
   "outputs": [
    {
     "name": "stderr",
     "output_type": "stream",
     "text": [
      "C:\\Users\\Jeremy\\Anaconda3\\lib\\site-packages\\matplotlib\\axes\\_axes.py:6462: UserWarning: The 'normed' kwarg is deprecated, and has been replaced by the 'density' kwarg.\n",
      "  warnings.warn(\"The 'normed' kwarg is deprecated, and has been \"\n"
     ]
    },
    {
     "data": {
      "image/png": "[encoded data removed]",
      "text/plain": [
       "<Figure size 432x288 with 1 Axes>"
      ]
     },
     "metadata": {},
     "output_type": "display_data"
    }
   ],
   "source": [
    "sns.distplot(results_N50.x1 - 1, label='$N=50$')\n",
    "sns.distplot(results_N200.x1 - 1, label='$N=200$')\n",
    "sns.distplot(results_N1000.x1 - 1, label='$N=1000$')\n",
    "plt.title('Distribution of estimation error of OLS at different sample sizes')\n",
    "plt.xlabel(r'bias of $\\tilde \\beta_1$')\n",
    "plt.legend();"
   ]
  },
  {
   "cell_type": "markdown",
   "metadata": {},
   "source": [
    "As we see above, OLS is biased inconsistent when regressor is endogenous."
   ]
  },
  {
   "cell_type": "markdown",
   "metadata": {},
   "source": [
    "#### Q7. Design and implement a Monte Carlo experiment... part 2\n",
    "\n",
    "Design and implement a Monte Carlo experiment to show that the IV regression that we ran above is biased but is *consistent*. That is, that the bias goes away with higher sample sizes. You have some flexibility in the way you choose to implement this experiment. This doesn't have to be very elaborate---it should just be enough to convince you of this fact. Follow the example from class and use pictures (and a table if you like).\n",
    "\n",
    "Note: For this exercise, don't worry about showing that IV is biased. Just show that it's consistent."
   ]
  },
  {
   "cell_type": "code",
   "execution_count": 17,
   "metadata": {},
   "outputs": [],
   "source": [
    "estimation_procedure = lambda df: linearmodels.IV2SLS.from_formula('y ~ 1+ [x1 ~ z1]', data=df).fit().params\n",
    "\n",
    "DGP = lambda : generate_data(N=50)\n",
    "iv_results_N50 = run_mc(estimation_procedure, DGP)\n",
    "DGP = lambda : generate_data(N=200)\n",
    "iv_results_N200 = run_mc(estimation_procedure, DGP)\n",
    "DGP = lambda : generate_data(N=1000)\n",
    "iv_results_N1000 = run_mc(estimation_procedure, DGP)"
   ]
  },
  {
   "cell_type": "code",
   "execution_count": 18,
   "metadata": {},
   "outputs": [
    {
     "name": "stderr",
     "output_type": "stream",
     "text": [
      "C:\\Users\\Jeremy\\Anaconda3\\lib\\site-packages\\matplotlib\\axes\\_axes.py:6462: UserWarning: The 'normed' kwarg is deprecated, and has been replaced by the 'density' kwarg.\n",
      "  warnings.warn(\"The 'normed' kwarg is deprecated, and has been \"\n"
     ]
    },
    {
     "data": {
      "image/png": "[encoded data removed]",
      "text/plain": [
       "<Figure size 432x288 with 1 Axes>"
      ]
     },
     "metadata": {},
     "output_type": "display_data"
    }
   ],
   "source": [
    "sns.distplot(iv_results_N50.x1 - 1, label='$N=50$')\n",
    "sns.distplot(iv_results_N200.x1 - 1, label='$N=200$')\n",
    "sns.distplot(iv_results_N1000.x1 - 1, label='$N=1000$')\n",
    "plt.title('Distribution of estimation error of IV at different sample sizes')\n",
    "plt.xlabel(r'bias of $\\tilde \\beta_1$')\n",
    "plt.legend();"
   ]
  }
 ],
 "metadata": {
  "kernelspec": {
   "display_name": "Python 3",
   "language": "python",
   "name": "python3"
  },
  "language_info": {
   "codemirror_mode": {
    "name": "ipython",
    "version": 3
   },
   "file_extension": ".py",
   "mimetype": "text/x-python",
   "name": "python",
   "nbconvert_exporter": "python",
   "pygments_lexer": "ipython3",
   "version": "3.6.5"
  },
  "varInspector": {
   "cols": {
    "lenName": 16,
    "lenType": 16,
    "lenVar": 40
   },
   "kernels_config": {
    "python": {
     "delete_cmd_postfix": "",
     "delete_cmd_prefix": "del ",
     "library": "var_list.py",
     "varRefreshCmd": "print(var_dic_list())"
    },
    "r": {
     "delete_cmd_postfix": ") ",
     "delete_cmd_prefix": "rm(",
     "library": "var_list.r",
     "varRefreshCmd": "cat(var_dic_list()) "
    }
   },
   "types_to_exclude": [
    "module",
    "function",
    "builtin_function_or_method",
    "instance",
    "_Feature"
   ],
   "window_display": false
  }
 },
 "nbformat": 4,
 "nbformat_minor": 2
}
