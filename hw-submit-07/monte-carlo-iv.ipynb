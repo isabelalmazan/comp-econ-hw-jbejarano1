{
 "cells": [
  {
   "cell_type": "markdown",
   "metadata": {},
   "source": [
    "# Instrumental Variables Monte Carlo Simulation\n",
    "\n",
    "This exercise will have you will run a Monte Carlo experiment to demonstrate the bias from an endogenous regressor and how the instrumental variable procedure can remedy the situation.\n",
    "\n",
    "**4 points each**\n"
   ]
  },
  {
   "cell_type": "markdown",
   "metadata": {},
   "source": [
    "#### Q1. Write a function that generates data from the following data generating process.\n",
    "\n",
    "Generate data from the following data generating process. Let\n",
    "\\begin{gather}\n",
    "x_1 = \\gamma_0 + \\gamma_1 z_1 + u \\\\\n",
    "y = \\beta_0 + \\beta_1 x_1 + \\epsilon,\n",
    "\\end{gather}\n",
    "where \n",
    " - the covariance between $\\epsilon$ and $u$ is 1/2,\n",
    " - the covariance between $z_1$ and $\\epsilon$ is 0,\n",
    " - and let $u$, $z_1$, and $\\epsilon$ be Normally distributed (jointly, let them be a multivariate Normal). Let them be mean zero with covariance between pairs to be 0, unless otherwise stated above. Let the variance of each be 1.\n",
    " \n",
    "Let $\\beta_0 = \\beta_1 = \\gamma_0 = \\gamma_1 =1$.\n",
    "\n",
    "The function should take in `N`, the size of the resulting sample. It should return a pandas DataFrame."
   ]
  },
  {
   "cell_type": "code",
   "execution_count": null,
   "metadata": {},
   "outputs": [],
   "source": []
  },
  {
   "cell_type": "markdown",
   "metadata": {},
   "source": [
    "#### Q2. Generate a single dataset and demonstrate OLS\n",
    "\n",
    "Set the seed to `100` by running `np.random.seed(100)`. Then generate a single dataset with `N=100`. Use OLS to regress `y` on `x1` (including a constant). Do this using `statsmodels`. Do this once using the normal api and once using the formula api. Are our estimates biased?"
   ]
  },
  {
   "cell_type": "code",
   "execution_count": null,
   "metadata": {},
   "outputs": [],
   "source": []
  },
  {
   "cell_type": "markdown",
   "metadata": {},
   "source": [
    "#### Q3. For the regression above, derive the expression for the bias of the estimate of $\\beta_1$ (in the probability limit).\n",
    "\n",
    "Write the derivation of the expression in a markdown cell below. Use LaTeX math to write out the expression. Use the numbers we gave above to calculate the bias."
   ]
  },
  {
   "cell_type": "code",
   "execution_count": null,
   "metadata": {},
   "outputs": [],
   "source": []
  },
  {
   "cell_type": "markdown",
   "metadata": {},
   "source": [
    "#### Q4. Estimate the model using `z1` as an instrument.\n",
    "\n",
    "Use the `linearmodels` package to estimate the same model, but using `z1` as an instrument. Use the formula api and use 2 stage least squares. (Note: Don't forget to include the intercept.)"
   ]
  },
  {
   "cell_type": "code",
   "execution_count": null,
   "metadata": {},
   "outputs": [],
   "source": []
  },
  {
   "cell_type": "markdown",
   "metadata": {},
   "source": [
    "#### Q5. When is IV consistent?\n",
    "\n",
    "What assumptions are needed for IV to give consistent estimates? Explain whether or not those assumptions hold in the model that we created above."
   ]
  },
  {
   "cell_type": "code",
   "execution_count": null,
   "metadata": {},
   "outputs": [],
   "source": []
  },
  {
   "cell_type": "markdown",
   "metadata": {},
   "source": [
    "#### Q6. Design and implement a Monte Carlo experiment... part 1\n",
    "\n",
    "Design and implement a Monte Carlo experiment to show that the OLS regression that we ran above is biased and *not consistent*. That is, that the bias doesn't go away with higher sample sizes. You have some flexibility in the way you choose to implement this experiment. This doesn't have to be very elaborate---it should just be enough to convince you of this fact. Follow the example from class and use pictures (and a table if you like)."
   ]
  },
  {
   "cell_type": "code",
   "execution_count": null,
   "metadata": {},
   "outputs": [],
   "source": []
  },
  {
   "cell_type": "markdown",
   "metadata": {},
   "source": [
    "#### Q7. Design and implement a Monte Carlo experiment... part 2\n",
    "\n",
    "Design and implement a Monte Carlo experiment to show that the IV regression that we ran above is biased but is *consistent*. That is, that the bias goes away with higher sample sizes. You have some flexibility in the way you choose to implement this experiment. This doesn't have to be very elaborate---it should just be enough to convince you of this fact. Follow the example from class and use pictures (and a table if you like).\n",
    "\n",
    "Note: For this exercise, don't worry about showing that IV is biased. Just show that it's consistent."
   ]
  },
  {
   "cell_type": "code",
   "execution_count": null,
   "metadata": {},
   "outputs": [],
   "source": []
  }
 ],
 "metadata": {
  "kernelspec": {
   "display_name": "Python 3",
   "language": "python",
   "name": "python3"
  },
  "language_info": {
   "codemirror_mode": {
    "name": "ipython",
    "version": 3
   },
   "file_extension": ".py",
   "mimetype": "text/x-python",
   "name": "python",
   "nbconvert_exporter": "python",
   "pygments_lexer": "ipython3",
   "version": "3.6.5"
  },
  "varInspector": {
   "cols": {
    "lenName": 16,
    "lenType": 16,
    "lenVar": 40
   },
   "kernels_config": {
    "python": {
     "delete_cmd_postfix": "",
     "delete_cmd_prefix": "del ",
     "library": "var_list.py",
     "varRefreshCmd": "print(var_dic_list())"
    },
    "r": {
     "delete_cmd_postfix": ") ",
     "delete_cmd_prefix": "rm(",
     "library": "var_list.r",
     "varRefreshCmd": "cat(var_dic_list()) "
    }
   },
   "types_to_exclude": [
    "module",
    "function",
    "builtin_function_or_method",
    "instance",
    "_Feature"
   ],
   "window_display": false
  }
 },
 "nbformat": 4,
 "nbformat_minor": 2
}
