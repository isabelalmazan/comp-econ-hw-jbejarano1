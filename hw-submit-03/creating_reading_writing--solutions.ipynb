{
 "cells": [
  {
   "cell_type": "markdown",
   "metadata": {
    "_cell_guid": "efb8b603-f0d8-4ec2-99a6-6a67ec080f17",
    "_uuid": "821dbccf9832d3a36408b81fc110733b2fb12fcd"
   },
   "source": [
    "**Note:**\n",
    "\n",
    "This set of exercises is taken from the **[Learn Pandas](https://www.kaggle.com/learn/pandas)** series on Kaggle. It is distributed under the [Apache 2.0 license](http://www.apache.org/licenses/LICENSE-2.0). It is only lightly modified for use in this class.\n",
    "\n",
    "\n",
    "# Introduction\n",
    "\n",
    "The first step in most data analytics projects is reading the data file. In this section, you'll create `Series` and `DataFrame` objects, both by hand and by reading data files.\n",
    "\n",
    "**(Grading: Two points each.)**"
   ]
  },
  {
   "cell_type": "code",
   "execution_count": 1,
   "metadata": {
    "_cell_guid": "a8203c90-46ec-4958-9041-829e81d92e42",
    "_uuid": "c20e15fb7c17fa437c9734129d3c9690a9240c75"
   },
   "outputs": [],
   "source": [
    "# import needed libraries\n",
    "import pandas as pd\n",
    "pd.set_option('max_rows', 5)"
   ]
  },
  {
   "cell_type": "markdown",
   "metadata": {
    "_cell_guid": "1d588271-b244-4ab5-a66f-2b3963fadc82",
    "_uuid": "2c6420c707d14bae3a0b817c2f0aa045bbc470ee"
   },
   "source": [
    "# Exercises"
   ]
  },
  {
   "cell_type": "markdown",
   "metadata": {
    "_cell_guid": "5df74d84-9491-4057-a01d-cf40a3d1d39d",
    "_uuid": "b1a7567d6334c841e00f390ec42128f0f10e0a41"
   },
   "source": [
    "**Exercise 1**: Create a `DataFrame` that looks like this:\n",
    "\n",
    "![](https://i.imgur.com/Ax3pp2A.png)"
   ]
  },
  {
   "cell_type": "code",
   "execution_count": 2,
   "metadata": {
    "_cell_guid": "88885c4a-8cbd-494e-a8be-261aa5845ab0",
    "_uuid": "db8fd0bdecea1eb3f74ed075101ce676272a3f57"
   },
   "outputs": [
    {
     "data": {
      "text/html": [
       "<div>\n",
       "<style scoped>\n",
       "    .dataframe tbody tr th:only-of-type {\n",
       "        vertical-align: middle;\n",
       "    }\n",
       "\n",
       "    .dataframe tbody tr th {\n",
       "        vertical-align: top;\n",
       "    }\n",
       "\n",
       "    .dataframe thead th {\n",
       "        text-align: right;\n",
       "    }\n",
       "</style>\n",
       "<table border=\"1\" class=\"dataframe\">\n",
       "  <thead>\n",
       "    <tr style=\"text-align: right;\">\n",
       "      <th></th>\n",
       "      <th>Apples</th>\n",
       "      <th>Bananas</th>\n",
       "    </tr>\n",
       "  </thead>\n",
       "  <tbody>\n",
       "    <tr>\n",
       "      <th>0</th>\n",
       "      <td>30</td>\n",
       "      <td>21</td>\n",
       "    </tr>\n",
       "  </tbody>\n",
       "</table>\n",
       "</div>"
      ],
      "text/plain": [
       "   Apples  Bananas\n",
       "0      30       21"
      ]
     },
     "execution_count": 2,
     "metadata": {},
     "output_type": "execute_result"
    }
   ],
   "source": [
    "expected = pd.DataFrame({'Apples': [30], 'Bananas': [21]})\n",
    "expected"
   ]
  },
  {
   "cell_type": "markdown",
   "metadata": {
    "_cell_guid": "1d16dae3-41c5-4e2a-ba54-80838e171113",
    "_uuid": "85f5963c04c230b4b1a440b0bd2e4795a51f63c9"
   },
   "source": [
    "**Exercise 2**: Create the following `DataFrame`:\n",
    "\n",
    "![](https://i.imgur.com/CHPn7ZF.png)"
   ]
  },
  {
   "cell_type": "code",
   "execution_count": 3,
   "metadata": {
    "_cell_guid": "76d8939b-5a37-45cd-adbe-01ceb93b5211",
    "_uuid": "0f81afe385af4dde0314850a80d4adf508ad91f2"
   },
   "outputs": [
    {
     "data": {
      "text/html": [
       "<div>\n",
       "<style scoped>\n",
       "    .dataframe tbody tr th:only-of-type {\n",
       "        vertical-align: middle;\n",
       "    }\n",
       "\n",
       "    .dataframe tbody tr th {\n",
       "        vertical-align: top;\n",
       "    }\n",
       "\n",
       "    .dataframe thead th {\n",
       "        text-align: right;\n",
       "    }\n",
       "</style>\n",
       "<table border=\"1\" class=\"dataframe\">\n",
       "  <thead>\n",
       "    <tr style=\"text-align: right;\">\n",
       "      <th></th>\n",
       "      <th>Apples</th>\n",
       "      <th>Bananas</th>\n",
       "    </tr>\n",
       "  </thead>\n",
       "  <tbody>\n",
       "    <tr>\n",
       "      <th>2017 Sales</th>\n",
       "      <td>35</td>\n",
       "      <td>21</td>\n",
       "    </tr>\n",
       "    <tr>\n",
       "      <th>2018 Sales</th>\n",
       "      <td>41</td>\n",
       "      <td>34</td>\n",
       "    </tr>\n",
       "  </tbody>\n",
       "</table>\n",
       "</div>"
      ],
      "text/plain": [
       "            Apples  Bananas\n",
       "2017 Sales      35       21\n",
       "2018 Sales      41       34"
      ]
     },
     "execution_count": 3,
     "metadata": {},
     "output_type": "execute_result"
    }
   ],
   "source": [
    "expected = pd.DataFrame(\n",
    "        {'Apples': [35, 41], 'Bananas': [21, 34]},\n",
    "        index=['2017 Sales', '2018 Sales']\n",
    "    )\n",
    "expected"
   ]
  },
  {
   "cell_type": "markdown",
   "metadata": {
    "_cell_guid": "adde33ec-19de-45cf-8de7-9740a7bc3172",
    "_uuid": "b3e38780c5306bcdd2d466fd741bca7445dca7d9"
   },
   "source": [
    "**Exercise 3**: Create a `Series` that looks like this:\n",
    "\n",
    "```\n",
    "Flour     4 cups\n",
    "Milk       1 cup\n",
    "Eggs     2 large\n",
    "Spam       1 can\n",
    "Name: Dinner, dtype: object\n",
    "```"
   ]
  },
  {
   "cell_type": "code",
   "execution_count": 4,
   "metadata": {},
   "outputs": [
    {
     "data": {
      "text/plain": [
       "Flour     4 cups\n",
       "Milk       1 cup\n",
       "Eggs     2 large\n",
       "Spam       1 can\n",
       "Name: Dinner, dtype: object"
      ]
     },
     "execution_count": 4,
     "metadata": {},
     "output_type": "execute_result"
    }
   ],
   "source": [
    "expected = pd.Series(['4 cups', '1 cup', '2 large', '1 can'],\n",
    "                         index=['Flour', 'Milk', 'Eggs', 'Spam'],\n",
    "                         name='Dinner')\n",
    "expected"
   ]
  },
  {
   "cell_type": "markdown",
   "metadata": {
    "_cell_guid": "b26ad337-26e6-4a6b-9fbc-d9106d308a8b",
    "_uuid": "b8c7ad15d6448e4b95f99cc64def47fdae10ab89"
   },
   "source": [
    "**Exercise 4**: Read the following `csv` dataset on wine reviews into the a `DataFrame`:\n",
    "\n",
    "![](https://i.imgur.com/74RCZtU.png)\n",
    "\n",
    "The filename for the CSV file `winemag-data_first150k.csv`. You can download it here: https://www.kaggle.com/zynicide/wine-reviews/downloads/winemag-data_first150k.csv/4\n",
    "\n",
    "NOTE: When you commit your code to Git, do not commit the data files. They will be too big. Use \".gitignore\" to ignore them."
   ]
  },
  {
   "cell_type": "code",
   "execution_count": 5,
   "metadata": {},
   "outputs": [
    {
     "data": {
      "text/html": [
       "<div>\n",
       "<style scoped>\n",
       "    .dataframe tbody tr th:only-of-type {\n",
       "        vertical-align: middle;\n",
       "    }\n",
       "\n",
       "    .dataframe tbody tr th {\n",
       "        vertical-align: top;\n",
       "    }\n",
       "\n",
       "    .dataframe thead th {\n",
       "        text-align: right;\n",
       "    }\n",
       "</style>\n",
       "<table border=\"1\" class=\"dataframe\">\n",
       "  <thead>\n",
       "    <tr style=\"text-align: right;\">\n",
       "      <th></th>\n",
       "      <th>country</th>\n",
       "      <th>description</th>\n",
       "      <th>designation</th>\n",
       "      <th>points</th>\n",
       "      <th>price</th>\n",
       "      <th>province</th>\n",
       "      <th>region_1</th>\n",
       "      <th>region_2</th>\n",
       "      <th>variety</th>\n",
       "      <th>winery</th>\n",
       "    </tr>\n",
       "  </thead>\n",
       "  <tbody>\n",
       "    <tr>\n",
       "      <th>0</th>\n",
       "      <td>US</td>\n",
       "      <td>This tremendous 100% varietal wine hails from ...</td>\n",
       "      <td>Martha's Vineyard</td>\n",
       "      <td>96</td>\n",
       "      <td>235.0</td>\n",
       "      <td>California</td>\n",
       "      <td>Napa Valley</td>\n",
       "      <td>Napa</td>\n",
       "      <td>Cabernet Sauvignon</td>\n",
       "      <td>Heitz</td>\n",
       "    </tr>\n",
       "    <tr>\n",
       "      <th>1</th>\n",
       "      <td>Spain</td>\n",
       "      <td>Ripe aromas of fig, blackberry and cassis are ...</td>\n",
       "      <td>Carodorum Selección Especial Reserva</td>\n",
       "      <td>96</td>\n",
       "      <td>110.0</td>\n",
       "      <td>Northern Spain</td>\n",
       "      <td>Toro</td>\n",
       "      <td>NaN</td>\n",
       "      <td>Tinta de Toro</td>\n",
       "      <td>Bodega Carmen Rodríguez</td>\n",
       "    </tr>\n",
       "    <tr>\n",
       "      <th>2</th>\n",
       "      <td>US</td>\n",
       "      <td>Mac Watson honors the memory of a wine once ma...</td>\n",
       "      <td>Special Selected Late Harvest</td>\n",
       "      <td>96</td>\n",
       "      <td>90.0</td>\n",
       "      <td>California</td>\n",
       "      <td>Knights Valley</td>\n",
       "      <td>Sonoma</td>\n",
       "      <td>Sauvignon Blanc</td>\n",
       "      <td>Macauley</td>\n",
       "    </tr>\n",
       "    <tr>\n",
       "      <th>3</th>\n",
       "      <td>US</td>\n",
       "      <td>This spent 20 months in 30% new French oak, an...</td>\n",
       "      <td>Reserve</td>\n",
       "      <td>96</td>\n",
       "      <td>65.0</td>\n",
       "      <td>Oregon</td>\n",
       "      <td>Willamette Valley</td>\n",
       "      <td>Willamette Valley</td>\n",
       "      <td>Pinot Noir</td>\n",
       "      <td>Ponzi</td>\n",
       "    </tr>\n",
       "    <tr>\n",
       "      <th>4</th>\n",
       "      <td>France</td>\n",
       "      <td>This is the top wine from La Bégude, named aft...</td>\n",
       "      <td>La Brûlade</td>\n",
       "      <td>95</td>\n",
       "      <td>66.0</td>\n",
       "      <td>Provence</td>\n",
       "      <td>Bandol</td>\n",
       "      <td>NaN</td>\n",
       "      <td>Provence red blend</td>\n",
       "      <td>Domaine de la Bégude</td>\n",
       "    </tr>\n",
       "  </tbody>\n",
       "</table>\n",
       "</div>"
      ],
      "text/plain": [
       "  country                                        description  \\\n",
       "0      US  This tremendous 100% varietal wine hails from ...   \n",
       "1   Spain  Ripe aromas of fig, blackberry and cassis are ...   \n",
       "2      US  Mac Watson honors the memory of a wine once ma...   \n",
       "3      US  This spent 20 months in 30% new French oak, an...   \n",
       "4  France  This is the top wine from La Bégude, named aft...   \n",
       "\n",
       "                            designation  points  price        province  \\\n",
       "0                     Martha's Vineyard      96  235.0      California   \n",
       "1  Carodorum Selección Especial Reserva      96  110.0  Northern Spain   \n",
       "2         Special Selected Late Harvest      96   90.0      California   \n",
       "3                               Reserve      96   65.0          Oregon   \n",
       "4                            La Brûlade      95   66.0        Provence   \n",
       "\n",
       "            region_1           region_2             variety  \\\n",
       "0        Napa Valley               Napa  Cabernet Sauvignon   \n",
       "1               Toro                NaN       Tinta de Toro   \n",
       "2     Knights Valley             Sonoma     Sauvignon Blanc   \n",
       "3  Willamette Valley  Willamette Valley          Pinot Noir   \n",
       "4             Bandol                NaN  Provence red blend   \n",
       "\n",
       "                    winery  \n",
       "0                    Heitz  \n",
       "1  Bodega Carmen Rodríguez  \n",
       "2                 Macauley  \n",
       "3                    Ponzi  \n",
       "4     Domaine de la Bégude  "
      ]
     },
     "execution_count": 5,
     "metadata": {},
     "output_type": "execute_result"
    }
   ],
   "source": [
    "expected = pd.read_csv(\"winemag-data_first150k.csv\", index_col=0)\n",
    "expected.head()"
   ]
  },
  {
   "cell_type": "markdown",
   "metadata": {
    "_cell_guid": "d7ebade5-7677-4026-ac97-00383ab536fe",
    "_uuid": "11f3989183a6ab1a147055c36fa15a85e2c8e20a",
    "collapsed": true
   },
   "source": [
    "**Exercise 5**: Read the following `xls` sheet into a `DataFrame`: \n",
    "\n",
    "![](https://i.imgur.com/QZJBIBF.png)\n",
    "\n",
    "The filename for the XLS file is `WICAgencies2014ytd.xls`. You can download it here:  https://www.kaggle.com/jpmiller/publicassistance/downloads/xls_files_all.zip/2\n",
    "\n",
    "Hint: the name of the method you need inclues the word `excel`. The name of the sheet is `Pregnant Women Participating`. Don't do any cleanup before or after the import. Just import the data to replicate the image above."
   ]
  },
  {
   "cell_type": "code",
   "execution_count": 6,
   "metadata": {},
   "outputs": [
    {
     "data": {
      "text/html": [
       "<div>\n",
       "<style scoped>\n",
       "    .dataframe tbody tr th:only-of-type {\n",
       "        vertical-align: middle;\n",
       "    }\n",
       "\n",
       "    .dataframe tbody tr th {\n",
       "        vertical-align: top;\n",
       "    }\n",
       "\n",
       "    .dataframe thead th {\n",
       "        text-align: right;\n",
       "    }\n",
       "</style>\n",
       "<table border=\"1\" class=\"dataframe\">\n",
       "  <thead>\n",
       "    <tr style=\"text-align: right;\">\n",
       "      <th></th>\n",
       "      <th>WIC PROGRAM -- NUMBER OF PREGNANT WOMEN PARTICIPATING</th>\n",
       "      <th>Unnamed: 1</th>\n",
       "      <th>Unnamed: 2</th>\n",
       "      <th>Unnamed: 3</th>\n",
       "      <th>Unnamed: 4</th>\n",
       "      <th>Unnamed: 5</th>\n",
       "      <th>Unnamed: 6</th>\n",
       "      <th>Unnamed: 7</th>\n",
       "      <th>Unnamed: 8</th>\n",
       "      <th>Unnamed: 9</th>\n",
       "      <th>Unnamed: 10</th>\n",
       "      <th>Unnamed: 11</th>\n",
       "      <th>Unnamed: 12</th>\n",
       "      <th>Unnamed: 13</th>\n",
       "    </tr>\n",
       "  </thead>\n",
       "  <tbody>\n",
       "    <tr>\n",
       "      <th>0</th>\n",
       "      <td>FISCAL YEAR 2014</td>\n",
       "      <td>NaN</td>\n",
       "      <td>NaN</td>\n",
       "      <td>NaN</td>\n",
       "      <td>NaN</td>\n",
       "      <td>NaN</td>\n",
       "      <td>NaN</td>\n",
       "      <td>NaN</td>\n",
       "      <td>NaN</td>\n",
       "      <td>NaN</td>\n",
       "      <td>NaN</td>\n",
       "      <td>NaN</td>\n",
       "      <td>NaN</td>\n",
       "      <td>NaN</td>\n",
       "    </tr>\n",
       "    <tr>\n",
       "      <th>1</th>\n",
       "      <td>Data as of January 05, 2018</td>\n",
       "      <td>NaN</td>\n",
       "      <td>NaN</td>\n",
       "      <td>NaN</td>\n",
       "      <td>NaN</td>\n",
       "      <td>NaN</td>\n",
       "      <td>NaN</td>\n",
       "      <td>NaN</td>\n",
       "      <td>NaN</td>\n",
       "      <td>NaN</td>\n",
       "      <td>NaN</td>\n",
       "      <td>NaN</td>\n",
       "      <td>NaN</td>\n",
       "      <td>NaN</td>\n",
       "    </tr>\n",
       "    <tr>\n",
       "      <th>2</th>\n",
       "      <td>NaN</td>\n",
       "      <td>NaN</td>\n",
       "      <td>NaN</td>\n",
       "      <td>NaN</td>\n",
       "      <td>NaN</td>\n",
       "      <td>NaN</td>\n",
       "      <td>NaN</td>\n",
       "      <td>NaN</td>\n",
       "      <td>NaN</td>\n",
       "      <td>NaN</td>\n",
       "      <td>NaN</td>\n",
       "      <td>NaN</td>\n",
       "      <td>NaN</td>\n",
       "      <td>NaN</td>\n",
       "    </tr>\n",
       "    <tr>\n",
       "      <th>3</th>\n",
       "      <td>State Agency or Indian Tribal Organization</td>\n",
       "      <td>2013-10-01 00:00:00</td>\n",
       "      <td>2013-11-01 00:00:00</td>\n",
       "      <td>2013-12-01 00:00:00</td>\n",
       "      <td>2014-01-01 00:00:00</td>\n",
       "      <td>2014-02-01 00:00:00</td>\n",
       "      <td>2014-03-01 00:00:00</td>\n",
       "      <td>2014-04-01 00:00:00</td>\n",
       "      <td>2014-05-01 00:00:00</td>\n",
       "      <td>2014-06-01 00:00:00</td>\n",
       "      <td>2014-07-01 00:00:00</td>\n",
       "      <td>2014-08-01 00:00:00</td>\n",
       "      <td>2014-09-01 00:00:00</td>\n",
       "      <td>Average Participation</td>\n",
       "    </tr>\n",
       "    <tr>\n",
       "      <th>4</th>\n",
       "      <td>Connecticut</td>\n",
       "      <td>5847</td>\n",
       "      <td>5476</td>\n",
       "      <td>5274</td>\n",
       "      <td>5360</td>\n",
       "      <td>5056</td>\n",
       "      <td>5319</td>\n",
       "      <td>5500</td>\n",
       "      <td>5717</td>\n",
       "      <td>5703</td>\n",
       "      <td>5905</td>\n",
       "      <td>5754</td>\n",
       "      <td>5624</td>\n",
       "      <td>5544.58</td>\n",
       "    </tr>\n",
       "  </tbody>\n",
       "</table>\n",
       "</div>"
      ],
      "text/plain": [
       "  WIC PROGRAM -- NUMBER OF PREGNANT WOMEN PARTICIPATING           Unnamed: 1  \\\n",
       "0                                   FISCAL YEAR 2014                     NaN   \n",
       "1                        Data as of January 05, 2018                     NaN   \n",
       "2                                                NaN                     NaN   \n",
       "3         State Agency or Indian Tribal Organization     2013-10-01 00:00:00   \n",
       "4                                        Connecticut                    5847   \n",
       "\n",
       "            Unnamed: 2           Unnamed: 3           Unnamed: 4  \\\n",
       "0                  NaN                  NaN                  NaN   \n",
       "1                  NaN                  NaN                  NaN   \n",
       "2                  NaN                  NaN                  NaN   \n",
       "3  2013-11-01 00:00:00  2013-12-01 00:00:00  2014-01-01 00:00:00   \n",
       "4                 5476                 5274                 5360   \n",
       "\n",
       "            Unnamed: 5           Unnamed: 6           Unnamed: 7  \\\n",
       "0                  NaN                  NaN                  NaN   \n",
       "1                  NaN                  NaN                  NaN   \n",
       "2                  NaN                  NaN                  NaN   \n",
       "3  2014-02-01 00:00:00  2014-03-01 00:00:00  2014-04-01 00:00:00   \n",
       "4                 5056                 5319                 5500   \n",
       "\n",
       "            Unnamed: 8           Unnamed: 9          Unnamed: 10  \\\n",
       "0                  NaN                  NaN                  NaN   \n",
       "1                  NaN                  NaN                  NaN   \n",
       "2                  NaN                  NaN                  NaN   \n",
       "3  2014-05-01 00:00:00  2014-06-01 00:00:00  2014-07-01 00:00:00   \n",
       "4                 5717                 5703                 5905   \n",
       "\n",
       "           Unnamed: 11          Unnamed: 12            Unnamed: 13  \n",
       "0                  NaN                  NaN                    NaN  \n",
       "1                  NaN                  NaN                    NaN  \n",
       "2                  NaN                  NaN                    NaN  \n",
       "3  2014-08-01 00:00:00  2014-09-01 00:00:00  Average Participation  \n",
       "4                 5754                 5624                5544.58  "
      ]
     },
     "execution_count": 6,
     "metadata": {},
     "output_type": "execute_result"
    }
   ],
   "source": [
    "expected = pd.read_excel(\"./xls_files_all/WICAgencies2014ytd.xls\",\n",
    "                             sheet_name='Pregnant Women Participating')\n",
    "expected.head()"
   ]
  },
  {
   "cell_type": "markdown",
   "metadata": {
    "_cell_guid": "915faad5-6110-4cb2-9dcb-bce167878e27",
    "_uuid": "8075f4da95182203626c69d8b28acd7fe9660d2a"
   },
   "source": [
    "**Exercise 6**: Suppose we have the following `DataFrame`:"
   ]
  },
  {
   "cell_type": "code",
   "execution_count": 7,
   "metadata": {
    "_cell_guid": "e2924830-6ec4-41ec-8e29-5606298ce928",
    "_uuid": "c3353ca46fd3817a4569fb5ed4bb82dd3846c934"
   },
   "outputs": [],
   "source": [
    "q6_df = pd.DataFrame({'Cows': [12, 20], 'Goats': [22, 19]}, index=['Year 1', 'Year 2'])"
   ]
  },
  {
   "cell_type": "markdown",
   "metadata": {
    "_cell_guid": "7bf43a01-3c69-4a51-9061-012581f004f5",
    "_uuid": "e28acd9d39b24d0823af4dd832d9bc7240030434"
   },
   "source": [
    "Save this `DataFrame` to disc as a `csv` file with the name `cows_and_goats.csv`."
   ]
  },
  {
   "cell_type": "code",
   "execution_count": 8,
   "metadata": {},
   "outputs": [],
   "source": [
    "expected = pd.DataFrame({'Cows': [12, 20], 'Goats': [22, 19]}, index=['Year 1', 'Year 2'])"
   ]
  },
  {
   "cell_type": "code",
   "execution_count": 9,
   "metadata": {},
   "outputs": [],
   "source": [
    "expected.to_csv('cows_and_goats.csv')"
   ]
  },
  {
   "cell_type": "code",
   "execution_count": 10,
   "metadata": {},
   "outputs": [
    {
     "data": {
      "text/plain": [
       "True"
      ]
     },
     "execution_count": 10,
     "metadata": {},
     "output_type": "execute_result"
    }
   ],
   "source": [
    "import os\n",
    "expected = pd.DataFrame({'Cows': [12, 20], 'Goats': [22, 19]}, index=['Year 1', 'Year 2'])\n",
    "os.path.exists(\"cows_and_goats.csv\") and pd.read_csv(\"cows_and_goats.csv\", index_col=0).equals(expected)"
   ]
  },
  {
   "cell_type": "markdown",
   "metadata": {
    "_cell_guid": "209d5beb-afc8-4c0c-a062-b8b9f82371d3",
    "_uuid": "d0672be743ede0fc750c9c2b385ea8838e88c841"
   },
   "source": [
    "**Exercise 7**: Read the following `SQL` data into a `DataFrame`:\n",
    "\n",
    "![](https://i.imgur.com/mmvbOT3.png)\n",
    "\n",
    "The filename is `database.sqlite`. You can download the data here: https://www.kaggle.com/nolanbconaway/pitchfork-data/downloads/database.sqlite/1\n",
    "\n",
    "Hint: use the `sqlite3` library. The name of the table is `artists`."
   ]
  },
  {
   "cell_type": "code",
   "execution_count": 11,
   "metadata": {},
   "outputs": [
    {
     "data": {
      "text/html": [
       "<div>\n",
       "<style scoped>\n",
       "    .dataframe tbody tr th:only-of-type {\n",
       "        vertical-align: middle;\n",
       "    }\n",
       "\n",
       "    .dataframe tbody tr th {\n",
       "        vertical-align: top;\n",
       "    }\n",
       "\n",
       "    .dataframe thead th {\n",
       "        text-align: right;\n",
       "    }\n",
       "</style>\n",
       "<table border=\"1\" class=\"dataframe\">\n",
       "  <thead>\n",
       "    <tr style=\"text-align: right;\">\n",
       "      <th></th>\n",
       "      <th>reviewid</th>\n",
       "      <th>artist</th>\n",
       "    </tr>\n",
       "  </thead>\n",
       "  <tbody>\n",
       "    <tr>\n",
       "      <th>0</th>\n",
       "      <td>22703</td>\n",
       "      <td>massive attack</td>\n",
       "    </tr>\n",
       "    <tr>\n",
       "      <th>1</th>\n",
       "      <td>22721</td>\n",
       "      <td>krallice</td>\n",
       "    </tr>\n",
       "    <tr>\n",
       "      <th>2</th>\n",
       "      <td>22659</td>\n",
       "      <td>uranium club</td>\n",
       "    </tr>\n",
       "    <tr>\n",
       "      <th>3</th>\n",
       "      <td>22661</td>\n",
       "      <td>kleenex</td>\n",
       "    </tr>\n",
       "    <tr>\n",
       "      <th>4</th>\n",
       "      <td>22661</td>\n",
       "      <td>liliput</td>\n",
       "    </tr>\n",
       "  </tbody>\n",
       "</table>\n",
       "</div>"
      ],
      "text/plain": [
       "   reviewid          artist\n",
       "0     22703  massive attack\n",
       "1     22721        krallice\n",
       "2     22659    uranium club\n",
       "3     22661         kleenex\n",
       "4     22661         liliput"
      ]
     },
     "execution_count": 11,
     "metadata": {},
     "output_type": "execute_result"
    }
   ],
   "source": [
    "import sqlite3\n",
    "conn = sqlite3.connect(\"database.sqlite\")\n",
    "expected = pd.read_sql_query(\"SELECT * FROM artists\", conn)\n",
    "expected.head()"
   ]
  }
 ],
 "metadata": {
  "kernelspec": {
   "display_name": "Python 3",
   "language": "python",
   "name": "python3"
  },
  "language_info": {
   "codemirror_mode": {
    "name": "ipython",
    "version": 3
   },
   "file_extension": ".py",
   "mimetype": "text/x-python",
   "name": "python",
   "nbconvert_exporter": "python",
   "pygments_lexer": "ipython3",
   "version": "3.6.4"
  },
  "varInspector": {
   "cols": {
    "lenName": 16,
    "lenType": 16,
    "lenVar": 40
   },
   "kernels_config": {
    "python": {
     "delete_cmd_postfix": "",
     "delete_cmd_prefix": "del ",
     "library": "var_list.py",
     "varRefreshCmd": "print(var_dic_list())"
    },
    "r": {
     "delete_cmd_postfix": ") ",
     "delete_cmd_prefix": "rm(",
     "library": "var_list.r",
     "varRefreshCmd": "cat(var_dic_list()) "
    }
   },
   "types_to_exclude": [
    "module",
    "function",
    "builtin_function_or_method",
    "instance",
    "_Feature"
   ],
   "window_display": false
  }
 },
 "nbformat": 4,
 "nbformat_minor": 1
}
