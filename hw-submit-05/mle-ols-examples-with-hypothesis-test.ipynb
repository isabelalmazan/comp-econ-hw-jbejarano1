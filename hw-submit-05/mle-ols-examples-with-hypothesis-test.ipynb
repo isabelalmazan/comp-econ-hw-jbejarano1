{
 "cells": [
  {
   "cell_type": "markdown",
   "metadata": {},
   "source": [
    "# Income Data and the Log-Normal Distribution\n",
    "\n",
    "In this problem, we'll try to model data on annual income outcomes using a [log-normal distribution](https://en.wikipedia.org/wiki/Log-normal_distribution). For this problem, I have included synthetic data to represent the annual income of graduating students from UChicago in the year 2018 (not real data) . The data is given in a text file `incomes.txt`. Incomes are reported in U.S. dollars. For this data, use the log-normal distribution, with PDF given by\n",
    "$$\n",
    "f(x | \\mu, \\sigma) = \\frac{1}{x \\sigma \\sqrt{2 \\pi}} \\exp\\left\\{-\\frac{(\\log(x) - \\mu)^2}{2 \\sigma^2}\\right\\},\n",
    "$$\n",
    "with $0 < x < \\infty$, $-\\infty < \\mu < \\infty$, and $\\sigma > 0$.\n",
    "\n",
    "\n",
    "**GRADING:** 2 points for each question"
   ]
  },
  {
   "cell_type": "markdown",
   "metadata": {},
   "source": [
    "#### Q1. Load Data\n",
    "\n",
    "Load the data into a Pandas DataFrame called `df`. Give the column a name (let's use `income`)."
   ]
  },
  {
   "cell_type": "code",
   "execution_count": 112,
   "metadata": {},
   "outputs": [],
   "source": [
    "import numpy as np\n",
    "import scipy.stats\n",
    "import pandas as pd\n",
    "from matplotlib import pyplot as plt\n",
    "import seaborn as sns\n",
    "sns.set()"
   ]
  },
  {
   "cell_type": "code",
   "execution_count": 241,
   "metadata": {},
   "outputs": [],
   "source": [
    "np.set_printoptions(suppress=True)"
   ]
  },
  {
   "cell_type": "code",
   "execution_count": 7,
   "metadata": {},
   "outputs": [],
   "source": [
    "df = pd.read_csv('incomes.txt', header=None)\n",
    "df.columns = ['income']"
   ]
  },
  {
   "cell_type": "code",
   "execution_count": 8,
   "metadata": {},
   "outputs": [
    {
     "data": {
      "text/html": [
       "<div>\n",
       "<style scoped>\n",
       "    .dataframe tbody tr th:only-of-type {\n",
       "        vertical-align: middle;\n",
       "    }\n",
       "\n",
       "    .dataframe tbody tr th {\n",
       "        vertical-align: top;\n",
       "    }\n",
       "\n",
       "    .dataframe thead th {\n",
       "        text-align: right;\n",
       "    }\n",
       "</style>\n",
       "<table border=\"1\" class=\"dataframe\">\n",
       "  <thead>\n",
       "    <tr style=\"text-align: right;\">\n",
       "      <th></th>\n",
       "      <th>income</th>\n",
       "    </tr>\n",
       "  </thead>\n",
       "  <tbody>\n",
       "    <tr>\n",
       "      <th>0</th>\n",
       "      <td>51253.497156</td>\n",
       "    </tr>\n",
       "    <tr>\n",
       "      <th>1</th>\n",
       "      <td>100630.320241</td>\n",
       "    </tr>\n",
       "    <tr>\n",
       "      <th>2</th>\n",
       "      <td>83009.276137</td>\n",
       "    </tr>\n",
       "    <tr>\n",
       "      <th>3</th>\n",
       "      <td>82882.106543</td>\n",
       "    </tr>\n",
       "    <tr>\n",
       "      <th>4</th>\n",
       "      <td>77338.294839</td>\n",
       "    </tr>\n",
       "  </tbody>\n",
       "</table>\n",
       "</div>"
      ],
      "text/plain": [
       "          income\n",
       "0   51253.497156\n",
       "1  100630.320241\n",
       "2   83009.276137\n",
       "3   82882.106543\n",
       "4   77338.294839"
      ]
     },
     "execution_count": 8,
     "metadata": {},
     "output_type": "execute_result"
    }
   ],
   "source": [
    "df.head()"
   ]
  },
  {
   "cell_type": "markdown",
   "metadata": {},
   "source": [
    "#### Q2. Plot a histogram\n",
    "\n",
    "Plot a histogram and kde (kernel density estimation) plot of the incomes on the same plot. Do this using seaborn's `distplot` function. Be sure to label the x-axis and give the plot a title."
   ]
  },
  {
   "cell_type": "code",
   "execution_count": 9,
   "metadata": {},
   "outputs": [
    {
     "name": "stderr",
     "output_type": "stream",
     "text": [
      "C:\\Users\\Jeremy\\Anaconda3\\lib\\site-packages\\matplotlib\\axes\\_axes.py:6462: UserWarning: The 'normed' kwarg is deprecated, and has been replaced by the 'density' kwarg.\n",
      "  warnings.warn(\"The 'normed' kwarg is deprecated, and has been \"\n"
     ]
    },
    {
     "data": {
      "text/plain": [
       "Text(0.5,1,'Distribution of Incomes of Graduating Students')"
      ]
     },
     "execution_count": 9,
     "metadata": {},
     "output_type": "execute_result"
    },
    {
     "data": {
      "image/png": "[encoded data removed]",
      "text/plain": [
       "<Figure size 432x288 with 1 Axes>"
      ]
     },
     "metadata": {},
     "output_type": "display_data"
    }
   ],
   "source": [
    "sns.distplot(df)\n",
    "plt.xlabel('income')\n",
    "plt.title('Distribution of Incomes of Graduating Students')"
   ]
  },
  {
   "cell_type": "markdown",
   "metadata": {},
   "source": [
    "#### Q3. Plot the PDF of the log-normal distribution\n",
    "\n",
    "Plot the PDF of the log-normal distribution $f(x|\\mu, \\sigma)$ for values $\\mu=11.0$ and $\\sigma=0.5$ over the range $x \\in (0,150,000)$.\n",
    "\n",
    "Note: The assumption that $\\mu=11$ and $\\sigma = 0.5$ implies that the mean of the distribution is approx $\\$67,846$, since the mean is $\\exp\\{\\mu + 1/2 \\cdot \\sigma^2\\}$.\n",
    "\n",
    "Hint: I actually don't recommend using the `scipy.stats.lognorm` functions, like `scipy.stats.lognorm.cdf`. The built-in functions for the lognormal distribution in `scipy` use a 3-parameter parameterization that is pretty confusing. You can use them if you like, but I've found that it's easier to write my own."
   ]
  },
  {
   "cell_type": "code",
   "execution_count": 239,
   "metadata": {},
   "outputs": [
    {
     "data": {
      "image/png": "[encoded data removed]",
      "text/plain": [
       "<Figure size 432x288 with 1 Axes>"
      ]
     },
     "metadata": {},
     "output_type": "display_data"
    }
   ],
   "source": [
    "mu = 11.0\n",
    "sigma = 0.5\n",
    "def f(x, mu=11.0, sigma=0.5):\n",
    "    val = (1/(x * sigma * np.sqrt(2 * np.pi)) * \n",
    "           np.exp(-(np.log(x) - mu)**2/(2 * sigma**2)))\n",
    "    return val\n",
    "\n",
    "X = np.linspace(0.0001, 200_000, 100)\n",
    "Y = f(X, mu=mu, sigma=sigma)\n",
    "plt.plot(X, Y);"
   ]
  },
  {
   "cell_type": "code",
   "execution_count": 257,
   "metadata": {},
   "outputs": [
    {
     "data": {
      "text/plain": [
       "67846.29106328034"
      ]
     },
     "execution_count": 257,
     "metadata": {},
     "output_type": "execute_result"
    }
   ],
   "source": [
    "def log_norm_mean(mu=11, sigma=.5):\n",
    "    return np.exp(mu + .5 * sigma**2)\n",
    "log_norm_mean(mu=11, sigma=.5)"
   ]
  },
  {
   "cell_type": "code",
   "execution_count": 245,
   "metadata": {},
   "outputs": [
    {
     "data": {
      "text/plain": [
       "67846.29106328035"
      ]
     },
     "execution_count": 245,
     "metadata": {},
     "output_type": "execute_result"
    }
   ],
   "source": [
    "import scipy.integrate\n",
    "q = lambda x: x * f(x)\n",
    "mean, _ = scipy.integrate.quad(q, .001, 100_000_000)\n",
    "mean"
   ]
  },
  {
   "cell_type": "markdown",
   "metadata": {},
   "source": [
    "#### Q4. Plot the PDF over the histogram\n",
    "\n",
    "Use your plot of the given PDF (with $\\mu=11.0$ and $\\sigma=0.5$) and plot it over the histogram of the incomes data. Does our PDF appear match the data well?\n",
    "\n",
    "Hint: Use `sns.distplot(df.incomes, kde=False, norm_hist=True)`, then add your plot. Try the same thing with `norm_hist=False` to see why we need this keyword argument to do what we want to do."
   ]
  },
  {
   "cell_type": "code",
   "execution_count": 246,
   "metadata": {},
   "outputs": [
    {
     "name": "stderr",
     "output_type": "stream",
     "text": [
      "C:\\Users\\Jeremy\\Anaconda3\\lib\\site-packages\\matplotlib\\axes\\_axes.py:6462: UserWarning: The 'normed' kwarg is deprecated, and has been replaced by the 'density' kwarg.\n",
      "  warnings.warn(\"The 'normed' kwarg is deprecated, and has been \"\n"
     ]
    },
    {
     "data": {
      "image/png": "[encoded data removed]",
      "text/plain": [
       "<Figure size 432x288 with 1 Axes>"
      ]
     },
     "metadata": {},
     "output_type": "display_data"
    }
   ],
   "source": [
    "# The PDF doesn't really match the data.\n",
    "sns.distplot(df, kde=False, norm_hist=True)\n",
    "plt.plot(X, Y);"
   ]
  },
  {
   "cell_type": "markdown",
   "metadata": {},
   "source": [
    "#### Q5. Write a function for the log-likelihood function.\n",
    "\n",
    "Write a function for the log-likelihood function. Compute the log-likelihood of the distribution $\\mu=11.0$ and $\\sigma=0.5$."
   ]
  },
  {
   "cell_type": "code",
   "execution_count": 247,
   "metadata": {},
   "outputs": [],
   "source": [
    "def loglik(params, data):\n",
    "    \"\"\"Compute log-likelihood of parameters\n",
    "    \n",
    "    data should be provided in `args`. \n",
    "    The data should be a pandas.Series or a numpy array\n",
    "    \"\"\"\n",
    "    mu, sigma = params\n",
    "    f = lambda x: (1/(x * np.abs(sigma) * np.sqrt(2 * np.pi)) * \n",
    "                   np.exp(-(np.log(x) - mu)**2/(2 * sigma**2)))\n",
    "    f_array = f(data)\n",
    "    ll = np.sum(np.log(f_array))\n",
    "    return ll\n",
    "\n",
    "def nloglik(params, data):\n",
    "    return -loglik(params, data)"
   ]
  },
  {
   "cell_type": "code",
   "execution_count": 248,
   "metadata": {},
   "outputs": [
    {
     "data": {
      "text/plain": [
       "-2385.856997808558"
      ]
     },
     "execution_count": 248,
     "metadata": {},
     "output_type": "execute_result"
    }
   ],
   "source": [
    "loglik((mu, sigma), df.income.values)"
   ]
  },
  {
   "cell_type": "markdown",
   "metadata": {},
   "source": [
    "#### Q6. Compute the maximum likelihood estimate for the data.\n",
    "\n",
    "Compute the maximum likelihood estimate for the data. Plot the pdf of the estimated parameters over a histogram of the data."
   ]
  },
  {
   "cell_type": "code",
   "execution_count": 249,
   "metadata": {},
   "outputs": [],
   "source": [
    "import scipy.optimize as opt\n",
    "params_init = (mu, sigma)\n",
    "results = opt.minimize(nloglik, params_init, args=(df.income))"
   ]
  },
  {
   "cell_type": "code",
   "execution_count": 250,
   "metadata": {},
   "outputs": [
    {
     "data": {
      "text/plain": [
       "      fun: 2241.7193013573587\n",
       " hess_inv: array([[0.00022116, 0.00000216],\n",
       "       [0.00000216, 0.0001094 ]])\n",
       "      jac: array([0., 0.])\n",
       "  message: 'Optimization terminated successfully.'\n",
       "     nfev: 68\n",
       "      nit: 10\n",
       "     njev: 17\n",
       "   status: 0\n",
       "  success: True\n",
       "        x: array([11.359023  ,  0.20817732])"
      ]
     },
     "execution_count": 250,
     "metadata": {},
     "output_type": "execute_result"
    }
   ],
   "source": [
    "results"
   ]
  },
  {
   "cell_type": "code",
   "execution_count": 251,
   "metadata": {},
   "outputs": [
    {
     "name": "stderr",
     "output_type": "stream",
     "text": [
      "C:\\Users\\Jeremy\\Anaconda3\\lib\\site-packages\\matplotlib\\axes\\_axes.py:6462: UserWarning: The 'normed' kwarg is deprecated, and has been replaced by the 'density' kwarg.\n",
      "  warnings.warn(\"The 'normed' kwarg is deprecated, and has been \"\n"
     ]
    },
    {
     "data": {
      "image/png": "[encoded data removed]",
      "text/plain": [
       "<Figure size 432x288 with 1 Axes>"
      ]
     },
     "metadata": {},
     "output_type": "display_data"
    }
   ],
   "source": [
    "mu_MLE = results.x[0]\n",
    "sigma_MLE = results.x[1]\n",
    "X = np.linspace(0.0001, 150_000, 100)\n",
    "Y = f(X, mu=mu_MLE, sigma=sigma_MLE)\n",
    "sns.distplot(df, kde=False, norm_hist=True)\n",
    "plt.plot(X, Y);"
   ]
  },
  {
   "cell_type": "markdown",
   "metadata": {},
   "source": [
    "#### Q7. What is the variance-covaraince estimate of the parameter estimate $\\hat \\theta$ ?\n",
    "\n",
    "Let $\\theta = \\begin{bmatrix} \\mu & \\sigma \\end{bmatrix}^\\intercal$. What is the variance-covariance matrix of these parameters? What is the standard error of $\\hat \\mu$ and $\\hat \\sigma$?"
   ]
  },
  {
   "cell_type": "code",
   "execution_count": 252,
   "metadata": {},
   "outputs": [],
   "source": [
    "np.set_printoptions(suppress=True)"
   ]
  },
  {
   "cell_type": "code",
   "execution_count": 253,
   "metadata": {},
   "outputs": [
    {
     "name": "stdout",
     "output_type": "stream",
     "text": [
      "VCV(MLE) = \n",
      "[[ 0.00022116 -0.00000216]\n",
      " [-0.00000216  0.0001094 ]]\n",
      "Standard error for mu estimate =  0.014871316213559298\n",
      "Standard error for sigma estimate =  0.010459591725469746\n"
     ]
    }
   ],
   "source": [
    "# Note that here we are using our simulated data again\n",
    "OffDiagNeg = np.array([[1, -1], [-1, 1]])\n",
    "vcv_mle = results.hess_inv * OffDiagNeg\n",
    "stderr_mu_mle = np.sqrt(vcv_mle[0,0])\n",
    "stderr_sig_mle = np.sqrt(vcv_mle[1,1])\n",
    "print('VCV(MLE) = ')\n",
    "print(vcv_mle)\n",
    "print('Standard error for mu estimate = ', stderr_mu_mle)\n",
    "print('Standard error for sigma estimate = ', stderr_sig_mle)"
   ]
  },
  {
   "cell_type": "markdown",
   "metadata": {},
   "source": [
    "#### Q8. Compute a back-of-the envelope calculation of the 95% confidence interval.\n",
    "\n",
    "Follow the procedure used in the notes."
   ]
  },
  {
   "cell_type": "code",
   "execution_count": 67,
   "metadata": {},
   "outputs": [
    {
     "name": "stdout",
     "output_type": "stream",
     "text": [
      "mu_MLE=11.36\n",
      "95% conf. int.= [11.33, 11.39]\n",
      "sig_MLE={sigma_MLE:.2f}\n",
      "95% conf. int.= [0.19, 0.23]\n"
     ]
    }
   ],
   "source": [
    "lb_mu_95pctci = mu_MLE - 2 * stderr_mu_mle\n",
    "ub_mu_95pctci = mu_MLE + 2 * stderr_mu_mle\n",
    "print(f'mu_MLE={mu_MLE:.2f}')\n",
    "print(f'95% conf. int.= [{lb_mu_95pctci:.2f}, {ub_mu_95pctci:.2f}]')\n",
    "\n",
    "lb_sig_95pctci = sigma_MLE - 2 * stderr_sig_mle\n",
    "ub_sig_95pctci = sigma_MLE + 2 * stderr_sig_mle\n",
    "print('sig_MLE={sigma_MLE:.2f}')\n",
    "print(f'95% conf. int.= [{lb_sig_95pctci:.2f}, {ub_sig_95pctci:.2f}]')"
   ]
  },
  {
   "cell_type": "markdown",
   "metadata": {},
   "source": [
    "#### Q9. Perform of likelihood ratio test\n",
    "\n",
    "Perform of likelihood ratio test to test the hypothesis that $\\mu=11.0$ and $\\sigma=0.5$ Report the p-value."
   ]
  },
  {
   "cell_type": "code",
   "execution_count": 77,
   "metadata": {},
   "outputs": [],
   "source": [
    "import scipy.stats"
   ]
  },
  {
   "cell_type": "code",
   "execution_count": 96,
   "metadata": {},
   "outputs": [
    {
     "data": {
      "text/plain": [
       "0.0"
      ]
     },
     "execution_count": 96,
     "metadata": {},
     "output_type": "execute_result"
    }
   ],
   "source": [
    "LR = 2*(loglik((mu_MLE, sigma_MLE), df.income) - loglik((mu, sigma), df.income))\n",
    "pval_h0 = 1.0 - scipy.stats.chi2.cdf(LR, 2)\n",
    "pval_h0"
   ]
  },
  {
   "cell_type": "markdown",
   "metadata": {},
   "source": [
    "#### Q9. Perform of likelihood ratio test again\n",
    "\n",
    "Perform of likelihood ratio test to test the hypothesis that $\\mu=11.33$ and $\\sigma=0.2$ Report the p-value."
   ]
  },
  {
   "cell_type": "code",
   "execution_count": 258,
   "metadata": {},
   "outputs": [
    {
     "data": {
      "text/plain": [
       "84965.45150791103"
      ]
     },
     "execution_count": 258,
     "metadata": {},
     "output_type": "execute_result"
    }
   ],
   "source": [
    "log_norm_mean(mu=11.33, sigma=0.2)"
   ]
  },
  {
   "cell_type": "code",
   "execution_count": 99,
   "metadata": {},
   "outputs": [
    {
     "data": {
      "text/plain": [
       "0.08753130433222178"
      ]
     },
     "execution_count": 99,
     "metadata": {},
     "output_type": "execute_result"
    }
   ],
   "source": [
    "LR = 2*(loglik((mu_MLE, sigma_MLE), df.income) - loglik((11.33, .2), df.income))\n",
    "pval_h0 = 1.0 - scipy.stats.chi2.cdf(LR, 2)\n",
    "pval_h0"
   ]
  },
  {
   "cell_type": "markdown",
   "metadata": {},
   "source": [
    "#### Q10. Using the parameters you estimated, what is the probability... ?\n",
    "\n",
    "Using the parameters you estimated, what is the probability that a graduating student will earn more that \\$100,000? What is the probability that a student will earn less that \\$75,000?\n",
    "\n",
    "Hint: I actually don't recommend using the `scipy.stats.lognorm` functions, like `scipy.stats.lognorm.cdf`. The built-in functions for the lognormal distribution in `scipy` use a 3-parameter parameterization that is pretty confusing. You can use them if you like, but I've found that it's easier to write my own. This involves using `scipy.integrate.quad` to numerically integrate the pdf that I wrote myself."
   ]
  },
  {
   "cell_type": "code",
   "execution_count": 259,
   "metadata": {},
   "outputs": [],
   "source": [
    "import scipy.integrate"
   ]
  },
  {
   "cell_type": "code",
   "execution_count": 266,
   "metadata": {},
   "outputs": [
    {
     "data": {
      "image/png": "[encoded data removed]",
      "text/plain": [
       "<Figure size 432x288 with 1 Axes>"
      ]
     },
     "metadata": {},
     "output_type": "display_data"
    }
   ],
   "source": [
    "X = np.linspace(1, 200_000, 100)\n",
    "plt.plot(X, f(X, mu=mu_MLE, sigma=sigma_MLE));"
   ]
  },
  {
   "cell_type": "code",
   "execution_count": 267,
   "metadata": {},
   "outputs": [
    {
     "data": {
      "text/plain": [
       "87613.63349140417"
      ]
     },
     "execution_count": 267,
     "metadata": {},
     "output_type": "execute_result"
    }
   ],
   "source": [
    "log_norm_mean(mu=mu_MLE, sigma=sigma_MLE)"
   ]
  },
  {
   "cell_type": "code",
   "execution_count": 297,
   "metadata": {},
   "outputs": [],
   "source": [
    "q = lambda x: f(x, mu=mu_MLE, sigma=sigma_MLE)\n",
    "prob_less_75k, _ = scipy.integrate.quad(q, 0.001, 75_000)\n",
    "prob_more_100k, _ = scipy.integrate.quad(q, 100_000, 10_000_000)"
   ]
  },
  {
   "cell_type": "code",
   "execution_count": 300,
   "metadata": {},
   "outputs": [
    {
     "name": "stdout",
     "output_type": "stream",
     "text": [
      "Est. probability of making less than 75k: 0.260\n",
      "Est. probability of making more than 100k: 0.230\n"
     ]
    }
   ],
   "source": [
    "print(f'Est. probability of making less than 75k: {prob_less_75k:.3f}')\n",
    "print(f'Est. probability of making more than 100k: {prob_more_100k:.3f}')"
   ]
  },
  {
   "cell_type": "markdown",
   "metadata": {},
   "source": [
    "# Linear Regression and MLE\n",
    "\n",
    "In this part of the exercise, we will use MLE to estimate the parameters of a simple linear regression model. We will then compare our estimates to the OLS estimates.\n",
    "\n",
    "Assume the following linear regression model for exploring the statistical  relationship between the duration of being ill a number of possible variables that might influence that duration. Let $sick_i$ be the number of weeks that individual is sick during the year,\n",
    "$$\n",
    "sick_i = \\beta_0 + \\beta_1 age_i + \\beta_2 children_i + \\beta temp\\_winter_i + \\epsilon_i,\n",
    "$$\n",
    "where $\\epsilon_i \\sim \\mathcal N(0, \\sigma^2)$.\n",
    "The parameters $(\\beta_0, \\beta_1, \\beta_2, \\beta_3, \\sigma^2)$ are the parameters of the model that we want to estimate. The variable $age_i$ gives the age of individual $i$ at the end of the calendar year 2016. The variable $temp\\_winter_i$ is the average temperature during the months of January, February, and December of 2016 for individual $i$. The data for this model are in the file `sick.txt`, which contains comma-separated values of 200 individuals for four variables $(sick_i, age_i, children_i, temp\\_winter_i)$ with variable labels in the first row.\n",
    "\n",
    "\n",
    "#### Q11. Estimate the parameters...\n",
    "\n",
    "Estimate the parameters of the model $(\\beta_0, \\beta_1, \\beta_2, \\beta_3, \\sigma^2)$ by maximum likelihood. Report your estimates, the value of the log-likelihood function, and the estimated variance-covariance matrix of the estimates.\n",
    "\n",
    "Hint: Solve the linear regression equation for $\\epsilon_i$ and use the information about how $\\epsilon_i$ is distributed."
   ]
  },
  {
   "cell_type": "code",
   "execution_count": 596,
   "metadata": {},
   "outputs": [],
   "source": [
    "df = pd.read_csv('sick.txt')\n",
    "sick = df.sick.values\n",
    "age = df.age.values\n",
    "children = df.children.values\n",
    "temp = df.avgtemp_winter.values"
   ]
  },
  {
   "cell_type": "code",
   "execution_count": 597,
   "metadata": {},
   "outputs": [
    {
     "data": {
      "text/html": [
       "<div>\n",
       "<style scoped>\n",
       "    .dataframe tbody tr th:only-of-type {\n",
       "        vertical-align: middle;\n",
       "    }\n",
       "\n",
       "    .dataframe tbody tr th {\n",
       "        vertical-align: top;\n",
       "    }\n",
       "\n",
       "    .dataframe thead th {\n",
       "        text-align: right;\n",
       "    }\n",
       "</style>\n",
       "<table border=\"1\" class=\"dataframe\">\n",
       "  <thead>\n",
       "    <tr style=\"text-align: right;\">\n",
       "      <th></th>\n",
       "      <th>sick</th>\n",
       "      <th>age</th>\n",
       "      <th>children</th>\n",
       "      <th>avgtemp_winter</th>\n",
       "    </tr>\n",
       "  </thead>\n",
       "  <tbody>\n",
       "    <tr>\n",
       "      <th>0</th>\n",
       "      <td>1.67</td>\n",
       "      <td>57.47</td>\n",
       "      <td>3.04</td>\n",
       "      <td>54.10</td>\n",
       "    </tr>\n",
       "    <tr>\n",
       "      <th>1</th>\n",
       "      <td>0.71</td>\n",
       "      <td>26.77</td>\n",
       "      <td>1.20</td>\n",
       "      <td>36.54</td>\n",
       "    </tr>\n",
       "    <tr>\n",
       "      <th>2</th>\n",
       "      <td>1.39</td>\n",
       "      <td>41.85</td>\n",
       "      <td>2.31</td>\n",
       "      <td>32.38</td>\n",
       "    </tr>\n",
       "    <tr>\n",
       "      <th>3</th>\n",
       "      <td>1.37</td>\n",
       "      <td>51.27</td>\n",
       "      <td>2.46</td>\n",
       "      <td>52.94</td>\n",
       "    </tr>\n",
       "    <tr>\n",
       "      <th>4</th>\n",
       "      <td>1.45</td>\n",
       "      <td>44.22</td>\n",
       "      <td>2.72</td>\n",
       "      <td>45.90</td>\n",
       "    </tr>\n",
       "  </tbody>\n",
       "</table>\n",
       "</div>"
      ],
      "text/plain": [
       "   sick    age  children  avgtemp_winter\n",
       "0  1.67  57.47      3.04           54.10\n",
       "1  0.71  26.77      1.20           36.54\n",
       "2  1.39  41.85      2.31           32.38\n",
       "3  1.37  51.27      2.46           52.94\n",
       "4  1.45  44.22      2.72           45.90"
      ]
     },
     "execution_count": 597,
     "metadata": {},
     "output_type": "execute_result"
    }
   ],
   "source": [
    "df.head()"
   ]
  },
  {
   "cell_type": "code",
   "execution_count": 598,
   "metadata": {},
   "outputs": [],
   "source": [
    "# np.random.seed(1)\n",
    "# N = 50\n",
    "# X = scipy.random.multivariate_normal([35, 1, 35], np.array([[10, 1, 0],\n",
    "#                                                         [1, 2, 0],\n",
    "#                                                         [0, 0, 20]]),\n",
    "#                                 size=N, check_valid='raise')\n",
    "# df = pd.DataFrame(X, columns=['age', 'children', 'avgtemp_winter'])\n",
    "# df.age = np.ceil(df.age).astype(int)\n",
    "# df.children = np.floor(df.children).astype(int)\n",
    "# df.loc[df.children < 0, 'children'] = 0\n",
    "\n",
    "# eps_sig = 4\n",
    "# eps = np.random.normal(0, eps_sig, size=N)\n",
    "# b0, b1, b2, b3 = 0, 0, .001, -.01\n",
    "# df['sick'] = b0 + b1 * df.age + b2 * df.children + b3 * df.avgtemp_winter + eps\n",
    "# df.sick = np.floor(df.sick).astype(int)\n",
    "# df.loc[df.sick < 0, 'sick'] = 0\n",
    "# df.loc[df.sick > 50, 'sick'] = 50\n",
    "\n",
    "\n",
    "# sick = df.sick.values\n",
    "# age = df.age.values\n",
    "# children = df.children.values\n",
    "# temp = df.avgtemp_winter.values"
   ]
  },
  {
   "cell_type": "code",
   "execution_count": 599,
   "metadata": {},
   "outputs": [
    {
     "data": {
      "text/html": [
       "<div>\n",
       "<style scoped>\n",
       "    .dataframe tbody tr th:only-of-type {\n",
       "        vertical-align: middle;\n",
       "    }\n",
       "\n",
       "    .dataframe tbody tr th {\n",
       "        vertical-align: top;\n",
       "    }\n",
       "\n",
       "    .dataframe thead th {\n",
       "        text-align: right;\n",
       "    }\n",
       "</style>\n",
       "<table border=\"1\" class=\"dataframe\">\n",
       "  <thead>\n",
       "    <tr style=\"text-align: right;\">\n",
       "      <th></th>\n",
       "      <th>sick</th>\n",
       "      <th>age</th>\n",
       "      <th>children</th>\n",
       "      <th>avgtemp_winter</th>\n",
       "    </tr>\n",
       "  </thead>\n",
       "  <tbody>\n",
       "    <tr>\n",
       "      <th>0</th>\n",
       "      <td>1.67</td>\n",
       "      <td>57.47</td>\n",
       "      <td>3.04</td>\n",
       "      <td>54.10</td>\n",
       "    </tr>\n",
       "    <tr>\n",
       "      <th>1</th>\n",
       "      <td>0.71</td>\n",
       "      <td>26.77</td>\n",
       "      <td>1.20</td>\n",
       "      <td>36.54</td>\n",
       "    </tr>\n",
       "    <tr>\n",
       "      <th>2</th>\n",
       "      <td>1.39</td>\n",
       "      <td>41.85</td>\n",
       "      <td>2.31</td>\n",
       "      <td>32.38</td>\n",
       "    </tr>\n",
       "    <tr>\n",
       "      <th>3</th>\n",
       "      <td>1.37</td>\n",
       "      <td>51.27</td>\n",
       "      <td>2.46</td>\n",
       "      <td>52.94</td>\n",
       "    </tr>\n",
       "    <tr>\n",
       "      <th>4</th>\n",
       "      <td>1.45</td>\n",
       "      <td>44.22</td>\n",
       "      <td>2.72</td>\n",
       "      <td>45.90</td>\n",
       "    </tr>\n",
       "  </tbody>\n",
       "</table>\n",
       "</div>"
      ],
      "text/plain": [
       "   sick    age  children  avgtemp_winter\n",
       "0  1.67  57.47      3.04           54.10\n",
       "1  0.71  26.77      1.20           36.54\n",
       "2  1.39  41.85      2.31           32.38\n",
       "3  1.37  51.27      2.46           52.94\n",
       "4  1.45  44.22      2.72           45.90"
      ]
     },
     "execution_count": 599,
     "metadata": {},
     "output_type": "execute_result"
    }
   ],
   "source": [
    "df.head()"
   ]
  },
  {
   "cell_type": "code",
   "execution_count": 600,
   "metadata": {},
   "outputs": [
    {
     "data": {
      "text/html": [
       "<div>\n",
       "<style scoped>\n",
       "    .dataframe tbody tr th:only-of-type {\n",
       "        vertical-align: middle;\n",
       "    }\n",
       "\n",
       "    .dataframe tbody tr th {\n",
       "        vertical-align: top;\n",
       "    }\n",
       "\n",
       "    .dataframe thead th {\n",
       "        text-align: right;\n",
       "    }\n",
       "</style>\n",
       "<table border=\"1\" class=\"dataframe\">\n",
       "  <thead>\n",
       "    <tr style=\"text-align: right;\">\n",
       "      <th></th>\n",
       "      <th>sick</th>\n",
       "      <th>age</th>\n",
       "      <th>children</th>\n",
       "      <th>avgtemp_winter</th>\n",
       "    </tr>\n",
       "  </thead>\n",
       "  <tbody>\n",
       "    <tr>\n",
       "      <th>count</th>\n",
       "      <td>200.000000</td>\n",
       "      <td>200.000000</td>\n",
       "      <td>200.000000</td>\n",
       "      <td>200.000000</td>\n",
       "    </tr>\n",
       "    <tr>\n",
       "      <th>mean</th>\n",
       "      <td>1.008600</td>\n",
       "      <td>40.683850</td>\n",
       "      <td>1.674950</td>\n",
       "      <td>44.041250</td>\n",
       "    </tr>\n",
       "    <tr>\n",
       "      <th>std</th>\n",
       "      <td>0.504222</td>\n",
       "      <td>11.268686</td>\n",
       "      <td>0.969761</td>\n",
       "      <td>11.101977</td>\n",
       "    </tr>\n",
       "    <tr>\n",
       "      <th>min</th>\n",
       "      <td>0.040000</td>\n",
       "      <td>12.810000</td>\n",
       "      <td>0.000000</td>\n",
       "      <td>16.500000</td>\n",
       "    </tr>\n",
       "    <tr>\n",
       "      <th>25%</th>\n",
       "      <td>0.650000</td>\n",
       "      <td>33.967500</td>\n",
       "      <td>0.970000</td>\n",
       "      <td>36.112500</td>\n",
       "    </tr>\n",
       "    <tr>\n",
       "      <th>50%</th>\n",
       "      <td>0.960000</td>\n",
       "      <td>41.015000</td>\n",
       "      <td>1.560000</td>\n",
       "      <td>43.300000</td>\n",
       "    </tr>\n",
       "    <tr>\n",
       "      <th>75%</th>\n",
       "      <td>1.322500</td>\n",
       "      <td>47.750000</td>\n",
       "      <td>2.322500</td>\n",
       "      <td>52.172500</td>\n",
       "    </tr>\n",
       "    <tr>\n",
       "      <th>max</th>\n",
       "      <td>2.800000</td>\n",
       "      <td>74.890000</td>\n",
       "      <td>4.960000</td>\n",
       "      <td>68.600000</td>\n",
       "    </tr>\n",
       "  </tbody>\n",
       "</table>\n",
       "</div>"
      ],
      "text/plain": [
       "             sick         age    children  avgtemp_winter\n",
       "count  200.000000  200.000000  200.000000      200.000000\n",
       "mean     1.008600   40.683850    1.674950       44.041250\n",
       "std      0.504222   11.268686    0.969761       11.101977\n",
       "min      0.040000   12.810000    0.000000       16.500000\n",
       "25%      0.650000   33.967500    0.970000       36.112500\n",
       "50%      0.960000   41.015000    1.560000       43.300000\n",
       "75%      1.322500   47.750000    2.322500       52.172500\n",
       "max      2.800000   74.890000    4.960000       68.600000"
      ]
     },
     "execution_count": 600,
     "metadata": {},
     "output_type": "execute_result"
    }
   ],
   "source": [
    "df.describe()"
   ]
  },
  {
   "cell_type": "code",
   "execution_count": null,
   "metadata": {},
   "outputs": [],
   "source": []
  },
  {
   "cell_type": "code",
   "execution_count": null,
   "metadata": {},
   "outputs": [],
   "source": []
  },
  {
   "cell_type": "code",
   "execution_count": null,
   "metadata": {},
   "outputs": [],
   "source": []
  },
  {
   "cell_type": "code",
   "execution_count": 601,
   "metadata": {},
   "outputs": [
    {
     "name": "stdout",
     "output_type": "stream",
     "text": [
      "The parameter from beta_0 to sigma is:  [ 0.25164674  0.01293338  0.4005018  -0.00999169  0.00301773]\n",
      "MLE_Log-likelihood:  876.8650464776849\n",
      "Variance CoVariance Matrix (MLE) = \n",
      "[[ 0.0000009  -0.00000001  0.0000002   0.00000002 -0.        ]\n",
      " [-0.00000001  0.          0.00000003  0.          0.        ]\n",
      " [ 0.0000002   0.00000003  0.00000035 -0.00000002  0.        ]\n",
      " [ 0.00000002  0.         -0.00000002  0.          0.        ]\n",
      " [-0.          0.          0.          0.          0.00000002]]\n"
     ]
    },
    {
     "name": "stderr",
     "output_type": "stream",
     "text": [
      "C:\\Users\\Jeremy\\Anaconda3\\lib\\site-packages\\ipykernel\\__main__.py:12: RuntimeWarning: divide by zero encountered in log\n",
      "C:\\Users\\Jeremy\\Anaconda3\\lib\\site-packages\\scipy\\optimize\\optimize.py:643: RuntimeWarning: invalid value encountered in double_scalars\n",
      "  grad[k] = (f(*((xk + d,) + args)) - f0) / d[k]\n",
      "C:\\Users\\Jeremy\\Anaconda3\\lib\\site-packages\\ipykernel\\__main__.py:12: RuntimeWarning: divide by zero encountered in log\n"
     ]
    }
   ],
   "source": [
    "\n",
    "# Get a pdf of normal function\n",
    "def norm_pdf(xvals, mu=0, sigma=1):\n",
    "    pdf_vals = (1/ (sigma * np.sqrt(2 * np.pi)) * \n",
    "                np.exp( - np.power(xvals - mu, 2) / (2 * np.power(sigma, 2)) ))\n",
    "    return pdf_vals\n",
    "\n",
    "\n",
    "# get a log likelihood estimation\n",
    "def log_lik_norm(xvals, mu=0, sigma=1):\n",
    "    pdf_vals = norm_pdf(xvals, mu, sigma)\n",
    "    return np.sum(np.log(pdf_vals))\n",
    "\n",
    "\n",
    "# get  a log likelihood for a regression using certain parameters and \n",
    "# certain data\n",
    "def neg_log_lik_reg(params, *data):\n",
    "    beta_0, beta_1, beta_2, beta_3, sigma = params\n",
    "    sick, age, children, temp = data\n",
    "    xvals = sick - beta_0 - beta_1 * age - beta_2 * children - beta_3 * temp\n",
    "    log_lik_val = log_lik_norm(xvals, mu=0, sigma=sigma)\n",
    "    return -log_lik_val\n",
    "\n",
    "beta_0_init = 0\n",
    "beta_1_init  = 0\n",
    "beta_2_init  = 0\n",
    "beta_3_init  = 0\n",
    "sigma_init = 1\n",
    "params_init = np.array([beta_0_init, beta_1_init, beta_2_init, \n",
    "                        beta_3_init, sigma_init])\n",
    "mle_args = sick, age, children, temp\n",
    "results = opt.minimize(neg_log_lik_reg, params_init, args=(mle_args))\n",
    "print('The parameter from beta_0 to sigma is: ', results.x )\n",
    "print('MLE_Log-likelihood: ', -results.fun)\n",
    "\n",
    "OffDiagNeg = (-np.ones(results.hess_inv.shape) + \n",
    "              np.eye(results.hess_inv.shape[0])*2)\n",
    "vcv_mle = np.array(results.hess_inv)* OffDiagNeg \n",
    "print('Variance CoVariance Matrix (MLE) = ')\n",
    "print(vcv_mle)"
   ]
  },
  {
   "cell_type": "markdown",
   "metadata": {},
   "source": [
    "#### Q12. Use the likelihood ratio test...\n",
    "\n",
    "Use the likelihood ratio test to test the hypothesis that $\\beta_0 = 1.0$, $\\sigma^2 = 0.01$ and $\\beta_1, \\beta_2, \\beta_3 = 0$. Report the p-value."
   ]
  },
  {
   "cell_type": "code",
   "execution_count": 602,
   "metadata": {},
   "outputs": [
    {
     "data": {
      "text/plain": [
       "-876.8650464776849"
      ]
     },
     "execution_count": 602,
     "metadata": {},
     "output_type": "execute_result"
    }
   ],
   "source": [
    "results.fun"
   ]
  },
  {
   "cell_type": "code",
   "execution_count": 603,
   "metadata": {},
   "outputs": [
    {
     "data": {
      "text/plain": [
       "310.81200664093456"
      ]
     },
     "execution_count": 603,
     "metadata": {},
     "output_type": "execute_result"
    }
   ],
   "source": [
    "neg_log_lik_reg([0, 0, 0, 0, 1], sick, age, children, temp)"
   ]
  },
  {
   "cell_type": "code",
   "execution_count": 604,
   "metadata": {},
   "outputs": [
    {
     "data": {
      "text/plain": [
       "array([ 0.25164674,  0.01293338,  0.4005018 , -0.00999169,  0.00301773])"
      ]
     },
     "execution_count": 604,
     "metadata": {},
     "output_type": "execute_result"
    }
   ],
   "source": [
    "results.x"
   ]
  },
  {
   "cell_type": "code",
   "execution_count": 605,
   "metadata": {},
   "outputs": [
    {
     "data": {
      "text/plain": [
       "310.81200664093456"
      ]
     },
     "execution_count": 605,
     "metadata": {},
     "output_type": "execute_result"
    }
   ],
   "source": [
    "neg_log_lik_reg([0, 0, 0, 0, 1], sick, age, children, temp)"
   ]
  },
  {
   "cell_type": "code",
   "execution_count": 606,
   "metadata": {},
   "outputs": [
    {
     "name": "stdout",
     "output_type": "stream",
     "text": [
      "chi squared of H0 with 2 degrees of freedom p-value =  1.0\n"
     ]
    }
   ],
   "source": [
    "log_lik_h0 = neg_log_lik_reg([0, 0, 0, 0, 1], sick, age, children, temp)\n",
    "# log_lik_h0 = -neg_log_lik_reg(results.x, sick, age, children, temp)\n",
    "log_lik_mle = -results.fun\n",
    "LR_val = 2 * (log_lik_h0 - log_lik_mle )\n",
    "pval_h0 = 1.0 - scipy.stats.chi2.cdf(LR_val, 5)\n",
    "print('chi squared of H0 with 2 degrees of freedom p-value = ', pval_h0)"
   ]
  },
  {
   "cell_type": "code",
   "execution_count": 607,
   "metadata": {},
   "outputs": [
    {
     "data": {
      "text/plain": [
       "1.0"
      ]
     },
     "execution_count": 607,
     "metadata": {},
     "output_type": "execute_result"
    }
   ],
   "source": [
    "pval_h0"
   ]
  },
  {
   "cell_type": "code",
   "execution_count": 608,
   "metadata": {},
   "outputs": [
    {
     "data": {
      "text/plain": [
       "310.81200664093456"
      ]
     },
     "execution_count": 608,
     "metadata": {},
     "output_type": "execute_result"
    }
   ],
   "source": [
    "log_lik_h0"
   ]
  },
  {
   "cell_type": "code",
   "execution_count": 609,
   "metadata": {},
   "outputs": [
    {
     "data": {
      "text/plain": [
       "876.8650464776849"
      ]
     },
     "execution_count": 609,
     "metadata": {},
     "output_type": "execute_result"
    }
   ],
   "source": [
    "log_lik_mle"
   ]
  },
  {
   "cell_type": "code",
   "execution_count": 610,
   "metadata": {},
   "outputs": [
    {
     "data": {
      "text/plain": [
       "-1132.1060796735007"
      ]
     },
     "execution_count": 610,
     "metadata": {},
     "output_type": "execute_result"
    }
   ],
   "source": [
    "LR_val"
   ]
  },
  {
   "cell_type": "code",
   "execution_count": 611,
   "metadata": {},
   "outputs": [
    {
     "data": {
      "text/plain": [
       "0.0"
      ]
     },
     "execution_count": 611,
     "metadata": {},
     "output_type": "execute_result"
    }
   ],
   "source": [
    "scipy.stats.chi2.cdf(LR_val, 5)"
   ]
  },
  {
   "cell_type": "markdown",
   "metadata": {},
   "source": [
    "#### Q13. Compute OLS\n"
   ]
  },
  {
   "cell_type": "code",
   "execution_count": 612,
   "metadata": {},
   "outputs": [],
   "source": [
    "import statsmodels.formula.api as smf"
   ]
  },
  {
   "cell_type": "code",
   "execution_count": 613,
   "metadata": {},
   "outputs": [
    {
     "data": {
      "text/html": [
       "<div>\n",
       "<style scoped>\n",
       "    .dataframe tbody tr th:only-of-type {\n",
       "        vertical-align: middle;\n",
       "    }\n",
       "\n",
       "    .dataframe tbody tr th {\n",
       "        vertical-align: top;\n",
       "    }\n",
       "\n",
       "    .dataframe thead th {\n",
       "        text-align: right;\n",
       "    }\n",
       "</style>\n",
       "<table border=\"1\" class=\"dataframe\">\n",
       "  <thead>\n",
       "    <tr style=\"text-align: right;\">\n",
       "      <th></th>\n",
       "      <th>sick</th>\n",
       "      <th>age</th>\n",
       "      <th>children</th>\n",
       "      <th>avgtemp_winter</th>\n",
       "    </tr>\n",
       "  </thead>\n",
       "  <tbody>\n",
       "    <tr>\n",
       "      <th>0</th>\n",
       "      <td>1.67</td>\n",
       "      <td>57.47</td>\n",
       "      <td>3.04</td>\n",
       "      <td>54.10</td>\n",
       "    </tr>\n",
       "    <tr>\n",
       "      <th>1</th>\n",
       "      <td>0.71</td>\n",
       "      <td>26.77</td>\n",
       "      <td>1.20</td>\n",
       "      <td>36.54</td>\n",
       "    </tr>\n",
       "    <tr>\n",
       "      <th>2</th>\n",
       "      <td>1.39</td>\n",
       "      <td>41.85</td>\n",
       "      <td>2.31</td>\n",
       "      <td>32.38</td>\n",
       "    </tr>\n",
       "    <tr>\n",
       "      <th>3</th>\n",
       "      <td>1.37</td>\n",
       "      <td>51.27</td>\n",
       "      <td>2.46</td>\n",
       "      <td>52.94</td>\n",
       "    </tr>\n",
       "    <tr>\n",
       "      <th>4</th>\n",
       "      <td>1.45</td>\n",
       "      <td>44.22</td>\n",
       "      <td>2.72</td>\n",
       "      <td>45.90</td>\n",
       "    </tr>\n",
       "  </tbody>\n",
       "</table>\n",
       "</div>"
      ],
      "text/plain": [
       "   sick    age  children  avgtemp_winter\n",
       "0  1.67  57.47      3.04           54.10\n",
       "1  0.71  26.77      1.20           36.54\n",
       "2  1.39  41.85      2.31           32.38\n",
       "3  1.37  51.27      2.46           52.94\n",
       "4  1.45  44.22      2.72           45.90"
      ]
     },
     "execution_count": 613,
     "metadata": {},
     "output_type": "execute_result"
    }
   ],
   "source": [
    "df.head()"
   ]
  },
  {
   "cell_type": "code",
   "execution_count": 614,
   "metadata": {},
   "outputs": [],
   "source": [
    "results_ols = smf.ols('sick ~ age + children + avgtemp_winter', data=df).fit()"
   ]
  },
  {
   "cell_type": "code",
   "execution_count": 615,
   "metadata": {},
   "outputs": [
    {
     "data": {
      "text/html": [
       "<table class=\"simpletable\">\n",
       "<caption>OLS Regression Results</caption>\n",
       "<tr>\n",
       "  <th>Dep. Variable:</th>          <td>sick</td>       <th>  R-squared:         </th> <td>   1.000</td> \n",
       "</tr>\n",
       "<tr>\n",
       "  <th>Model:</th>                   <td>OLS</td>       <th>  Adj. R-squared:    </th> <td>   1.000</td> \n",
       "</tr>\n",
       "<tr>\n",
       "  <th>Method:</th>             <td>Least Squares</td>  <th>  F-statistic:       </th> <td>1.815e+06</td>\n",
       "</tr>\n",
       "<tr>\n",
       "  <th>Date:</th>             <td>Sat, 05 May 2018</td> <th>  Prob (F-statistic):</th>  <td>  0.00</td>  \n",
       "</tr>\n",
       "<tr>\n",
       "  <th>Time:</th>                 <td>02:37:01</td>     <th>  Log-Likelihood:    </th> <td>  876.87</td> \n",
       "</tr>\n",
       "<tr>\n",
       "  <th>No. Observations:</th>      <td>   200</td>      <th>  AIC:               </th> <td>  -1746.</td> \n",
       "</tr>\n",
       "<tr>\n",
       "  <th>Df Residuals:</th>          <td>   196</td>      <th>  BIC:               </th> <td>  -1733.</td> \n",
       "</tr>\n",
       "<tr>\n",
       "  <th>Df Model:</th>              <td>     3</td>      <th>                     </th>     <td> </td>    \n",
       "</tr>\n",
       "<tr>\n",
       "  <th>Covariance Type:</th>      <td>nonrobust</td>    <th>                     </th>     <td> </td>    \n",
       "</tr>\n",
       "</table>\n",
       "<table class=\"simpletable\">\n",
       "<tr>\n",
       "         <td></td>           <th>coef</th>     <th>std err</th>      <th>t</th>      <th>P>|t|</th>  <th>[0.025</th>    <th>0.975]</th>  \n",
       "</tr>\n",
       "<tr>\n",
       "  <th>Intercept</th>      <td>    0.2516</td> <td>    0.001</td> <td>  254.032</td> <td> 0.000</td> <td>    0.250</td> <td>    0.254</td>\n",
       "</tr>\n",
       "<tr>\n",
       "  <th>age</th>            <td>    0.0129</td> <td> 6.49e-05</td> <td>  199.257</td> <td> 0.000</td> <td>    0.013</td> <td>    0.013</td>\n",
       "</tr>\n",
       "<tr>\n",
       "  <th>children</th>       <td>    0.4005</td> <td>    0.001</td> <td>  643.790</td> <td> 0.000</td> <td>    0.399</td> <td>    0.402</td>\n",
       "</tr>\n",
       "<tr>\n",
       "  <th>avgtemp_winter</th> <td>   -0.0100</td> <td> 4.51e-05</td> <td> -221.388</td> <td> 0.000</td> <td>   -0.010</td> <td>   -0.010</td>\n",
       "</tr>\n",
       "</table>\n",
       "<table class=\"simpletable\">\n",
       "<tr>\n",
       "  <th>Omnibus:</th>       <td>24.095</td> <th>  Durbin-Watson:     </th> <td>   1.997</td>\n",
       "</tr>\n",
       "<tr>\n",
       "  <th>Prob(Omnibus):</th> <td> 0.000</td> <th>  Jarque-Bera (JB):  </th> <td>   7.115</td>\n",
       "</tr>\n",
       "<tr>\n",
       "  <th>Skew:</th>          <td>-0.002</td> <th>  Prob(JB):          </th> <td>  0.0285</td>\n",
       "</tr>\n",
       "<tr>\n",
       "  <th>Kurtosis:</th>      <td> 2.076</td> <th>  Cond. No.          </th> <td>    290.</td>\n",
       "</tr>\n",
       "</table>"
      ],
      "text/plain": [
       "<class 'statsmodels.iolib.summary.Summary'>\n",
       "\"\"\"\n",
       "                            OLS Regression Results                            \n",
       "==============================================================================\n",
       "Dep. Variable:                   sick   R-squared:                       1.000\n",
       "Model:                            OLS   Adj. R-squared:                  1.000\n",
       "Method:                 Least Squares   F-statistic:                 1.815e+06\n",
       "Date:                Sat, 05 May 2018   Prob (F-statistic):               0.00\n",
       "Time:                        02:37:01   Log-Likelihood:                 876.87\n",
       "No. Observations:                 200   AIC:                            -1746.\n",
       "Df Residuals:                     196   BIC:                            -1733.\n",
       "Df Model:                           3                                         \n",
       "Covariance Type:            nonrobust                                         \n",
       "==================================================================================\n",
       "                     coef    std err          t      P>|t|      [0.025      0.975]\n",
       "----------------------------------------------------------------------------------\n",
       "Intercept          0.2516      0.001    254.032      0.000       0.250       0.254\n",
       "age                0.0129   6.49e-05    199.257      0.000       0.013       0.013\n",
       "children           0.4005      0.001    643.790      0.000       0.399       0.402\n",
       "avgtemp_winter    -0.0100   4.51e-05   -221.388      0.000      -0.010      -0.010\n",
       "==============================================================================\n",
       "Omnibus:                       24.095   Durbin-Watson:                   1.997\n",
       "Prob(Omnibus):                  0.000   Jarque-Bera (JB):                7.115\n",
       "Skew:                          -0.002   Prob(JB):                       0.0285\n",
       "Kurtosis:                       2.076   Cond. No.                         290.\n",
       "==============================================================================\n",
       "\n",
       "Warnings:\n",
       "[1] Standard Errors assume that the covariance matrix of the errors is correctly specified.\n",
       "\"\"\""
      ]
     },
     "execution_count": 615,
     "metadata": {},
     "output_type": "execute_result"
    }
   ],
   "source": [
    "results_ols.summary()"
   ]
  },
  {
   "cell_type": "code",
   "execution_count": 616,
   "metadata": {},
   "outputs": [
    {
     "data": {
      "text/plain": [
       "array([ 0.25164674,  0.01293338,  0.4005018 , -0.00999169,  0.00301773])"
      ]
     },
     "execution_count": 616,
     "metadata": {},
     "output_type": "execute_result"
    }
   ],
   "source": [
    "results.x"
   ]
  },
  {
   "cell_type": "code",
   "execution_count": 617,
   "metadata": {},
   "outputs": [
    {
     "name": "stdout",
     "output_type": "stream",
     "text": [
      "chi squared of H0 with 2 degrees of freedom p-value =  0.0\n"
     ]
    }
   ],
   "source": [
    "log_lik_h0 = -neg_log_lik_reg([0.25, 0.01, 0.4, -0.01, 0.01], sick, age, children, temp)\n",
    "# log_lik_mle = results.fun\n",
    "LR_val = 2 * (log_lik_mle - log_lik_h0)\n",
    "pval_h0 = 1.0 - scipy.stats.chi2.cdf(LR_val, 5)\n",
    "print('chi squared of H0 with 2 degrees of freedom p-value = ', pval_h0)"
   ]
  },
  {
   "cell_type": "code",
   "execution_count": 595,
   "metadata": {},
   "outputs": [
    {
     "data": {
      "text/plain": [
       "0.003025261777392904"
      ]
     },
     "execution_count": 595,
     "metadata": {},
     "output_type": "execute_result"
    }
   ],
   "source": [
    "results_ols.resid.std()"
   ]
  },
  {
   "cell_type": "code",
   "execution_count": null,
   "metadata": {},
   "outputs": [],
   "source": []
  }
 ],
 "metadata": {
  "kernelspec": {
   "display_name": "Python 3",
   "language": "python",
   "name": "python3"
  },
  "language_info": {
   "codemirror_mode": {
    "name": "ipython",
    "version": 3
   },
   "file_extension": ".py",
   "mimetype": "text/x-python",
   "name": "python",
   "nbconvert_exporter": "python",
   "pygments_lexer": "ipython3",
   "version": "3.6.5"
  },
  "varInspector": {
   "cols": {
    "lenName": 16,
    "lenType": 16,
    "lenVar": 40
   },
   "kernels_config": {
    "python": {
     "delete_cmd_postfix": "",
     "delete_cmd_prefix": "del ",
     "library": "var_list.py",
     "varRefreshCmd": "print(var_dic_list())"
    },
    "r": {
     "delete_cmd_postfix": ") ",
     "delete_cmd_prefix": "rm(",
     "library": "var_list.r",
     "varRefreshCmd": "cat(var_dic_list()) "
    }
   },
   "types_to_exclude": [
    "module",
    "function",
    "builtin_function_or_method",
    "instance",
    "_Feature"
   ],
   "window_display": false
  }
 },
 "nbformat": 4,
 "nbformat_minor": 2
}
