{
 "cells": [
  {
   "cell_type": "markdown",
   "metadata": {},
   "source": [
    "# Income Data and the Log-Normal Distribution\n",
    "\n",
    "In this problem, we'll try to model data on annual income outcomes using a [log-normal distribution](https://en.wikipedia.org/wiki/Log-normal_distribution). For this problem, I have included synthetic data to represent the annual income of graduating students from UChicago in the year 2018 (not real data) . The data is given in a text file `incomes.txt`. Incomes are reported in U.S. dollars. For this data, use the log-normal distribution, with PDF given by\n",
    "$$\n",
    "f(x | \\mu, \\sigma) = \\frac{1}{x \\sigma \\sqrt{2 \\pi}} \\exp\\left\\{-\\frac{(\\log(x) - \\mu)^2}{2 \\sigma^2}\\right\\},\n",
    "$$\n",
    "with $0 < x < \\infty$, $-\\infty < \\mu < \\infty$, and $\\sigma > 0$.\n",
    "\n",
    "\n",
    "**GRADING:** 2 points for each question"
   ]
  },
  {
   "cell_type": "markdown",
   "metadata": {},
   "source": [
    "#### Q1. Load Data\n",
    "\n",
    "Load the data into a Pandas DataFrame called `df`. Give the column a name (let's use `income`)."
   ]
  },
  {
   "cell_type": "code",
   "execution_count": null,
   "metadata": {},
   "outputs": [],
   "source": []
  },
  {
   "cell_type": "markdown",
   "metadata": {},
   "source": [
    "#### Q2. Plot a histogram\n",
    "\n",
    "Plot a histogram and kde (kernel density estimation) plot of the incomes on the same plot. Do this using seaborn's `distplot` function. Be sure to label the x-axis and give the plot a title."
   ]
  },
  {
   "cell_type": "code",
   "execution_count": null,
   "metadata": {},
   "outputs": [],
   "source": []
  },
  {
   "cell_type": "markdown",
   "metadata": {},
   "source": [
    "#### Q3. Plot the PDF of the log-normal distribution\n",
    "\n",
    "Plot the PDF of the log-normal distribution $f(x|\\mu, \\sigma)$ for values $\\mu=11.0$ and $\\sigma=0.5$ over the range $x \\in (0,150,000)$.\n",
    "\n",
    "Note: The assumption that $\\mu=11$ and $\\sigma = 0.5$ implies that the mean of the distribution is approx $\\$67,846$, since the mean is $\\exp\\{\\mu + 1/2 \\cdot \\sigma^2\\}$.\n",
    "\n",
    "Hint: I actually don't recommend using the `scipy.stats.lognorm` functions, like `scipy.stats.lognorm.cdf`. The built-in functions for the lognormal distribution in `scipy` use a 3-parameter parameterization that is pretty confusing. You can use them if you like, but I've found that it's easier to write my own."
   ]
  },
  {
   "cell_type": "code",
   "execution_count": null,
   "metadata": {},
   "outputs": [],
   "source": []
  },
  {
   "cell_type": "markdown",
   "metadata": {},
   "source": [
    "#### Q4. Plot the PDF over the histogram\n",
    "\n",
    "Use your plot of the given PDF (with $\\mu=11.0$ and $\\sigma=0.5$) and plot it over the histogram of the incomes data. Does our PDF appear match the data well?\n",
    "\n",
    "Hint: Use `sns.distplot(df.incomes, kde=False, norm_hist=True)`, then add your plot. Try the same thing with `norm_hist=False` to see why we need this keyword argument to do what we want to do."
   ]
  },
  {
   "cell_type": "code",
   "execution_count": null,
   "metadata": {},
   "outputs": [],
   "source": []
  },
  {
   "cell_type": "markdown",
   "metadata": {},
   "source": [
    "#### Q5. Write a function for the log-likelihood function.\n",
    "\n",
    "Write a function for the log-likelihood function. Compute the log-likelihood of the distribution $\\mu=11.0$ and $\\sigma=0.5$."
   ]
  },
  {
   "cell_type": "code",
   "execution_count": null,
   "metadata": {},
   "outputs": [],
   "source": []
  },
  {
   "cell_type": "markdown",
   "metadata": {},
   "source": [
    "#### Q6. Compute the maximum likelihood estimate for the data.\n",
    "\n",
    "Compute the maximum likelihood estimate for the data. Plot the pdf of the estimated parameters over a histogram of the data."
   ]
  },
  {
   "cell_type": "code",
   "execution_count": null,
   "metadata": {},
   "outputs": [],
   "source": []
  },
  {
   "cell_type": "markdown",
   "metadata": {},
   "source": [
    "#### Q7. What is the variance-covaraince estimate of the parameter estimate $\\hat \\theta$ ?\n",
    "\n",
    "Let $\\theta = \\begin{bmatrix} \\mu & \\sigma \\end{bmatrix}^\\intercal$. What is the variance-covariance matrix of these parameters? What is the standard error of $\\hat \\mu$ and $\\hat \\sigma$?"
   ]
  },
  {
   "cell_type": "code",
   "execution_count": null,
   "metadata": {},
   "outputs": [],
   "source": []
  },
  {
   "cell_type": "markdown",
   "metadata": {},
   "source": [
    "#### Q8. Compute a back-of-the envelope calculation of the 95% confidence interval.\n",
    "\n",
    "Follow the procedure used in the notes."
   ]
  },
  {
   "cell_type": "code",
   "execution_count": null,
   "metadata": {},
   "outputs": [],
   "source": []
  },
  {
   "cell_type": "markdown",
   "metadata": {},
   "source": [
    "#### Q9. Perform of likelihood ratio test\n",
    "\n",
    "Perform of likelihood ratio test to test the hypothesis that $\\mu=11.0$ and $\\sigma=0.5$ Report the p-value."
   ]
  },
  {
   "cell_type": "code",
   "execution_count": null,
   "metadata": {},
   "outputs": [],
   "source": []
  },
  {
   "cell_type": "markdown",
   "metadata": {},
   "source": [
    "#### Q9. Perform of likelihood ratio test again\n",
    "\n",
    "Perform of likelihood ratio test to test the hypothesis that $\\mu=11.33$ and $\\sigma=0.2$ Report the p-value."
   ]
  },
  {
   "cell_type": "code",
   "execution_count": null,
   "metadata": {},
   "outputs": [],
   "source": []
  },
  {
   "cell_type": "markdown",
   "metadata": {},
   "source": [
    "#### Q10. Using the parameters you estimated, what is the probability... ?\n",
    "\n",
    "Using the parameters you estimated, what is the probability that a graduating student will earn more that \\$100,000? What is the probability that a student will earn less that \\$75,000?\n",
    "\n",
    "Hint: I actually don't recommend using the `scipy.stats.lognorm` functions, like `scipy.stats.lognorm.cdf`. The built-in functions for the lognormal distribution in `scipy` use a 3-parameter parameterization that is pretty confusing. You can use them if you like, but I've found that it's easier to write my own. This involves using `scipy.integrate.quad` to numerically integrate the pdf that I wrote myself."
   ]
  },
  {
   "cell_type": "code",
   "execution_count": null,
   "metadata": {},
   "outputs": [],
   "source": []
  },
  {
   "cell_type": "markdown",
   "metadata": {},
   "source": [
    "# Linear Regression and MLE\n",
    "\n",
    "In this part of the exercise, we will use MLE to estimate the parameters of a simple linear regression model. We will then compare our estimates to the OLS estimates.\n",
    "\n",
    "Assume the following linear regression model for exploring the statistical  relationship between the duration of being ill a number of possible variables that might influence that duration. Let $sick_i$ be the number of weeks that individual is sick during the year,\n",
    "$$\n",
    "sick_i = \\beta_0 + \\beta_1 age_i + \\beta_2 children_i + \\beta temp\\_winter_i + \\epsilon_i,\n",
    "$$\n",
    "where $\\epsilon_i \\sim \\mathcal N(0, \\sigma^2)$.\n",
    "The parameters $(\\beta_0, \\beta_1, \\beta_2, \\beta_3, \\sigma^2)$ are the parameters of the model that we want to estimate. The variable $age_i$ gives the age of individual $i$ at the end of the calendar year 2016. The variable $temp\\_winter_i$ is the average temperature during the months of January, February, and December of 2016 for individual $i$. The data for this model are in the file `sick.txt`, which contains comma-separated values of 200 individuals for four variables $(sick_i, age_i, children_i, temp\\_winter_i)$ with variable labels in the first row.\n",
    "\n",
    "\n",
    "#### Q11. Estimate the parameters by maximum likelihood...\n",
    "\n",
    "Estimate the parameters of the model $(\\beta_0, \\beta_1, \\beta_2, \\beta_3, \\sigma^2)$ by maximum likelihood. Report your estimates, the value of the log-likelihood function, and the estimated variance-covariance matrix of the estimates.\n",
    "\n",
    "Hint: Solve the linear regression equation for $\\epsilon_i$ and use the information about how $\\epsilon_i$ is distributed."
   ]
  },
  {
   "cell_type": "code",
   "execution_count": null,
   "metadata": {},
   "outputs": [],
   "source": []
  },
  {
   "cell_type": "markdown",
   "metadata": {},
   "source": [
    "#### Q12. Estimate the parameters using OLS\n",
    "\n",
    "Use the `statsmodels` package to estimate the parameters using OLS. Use the formula API of stats models. Do these estimate match the estimates from MLE?\n",
    "\n",
    "Hint:\n",
    "\n",
    "```python\n",
    "import statsmodels.formula.api as smf\n",
    "results_ols = smf.ols( ... YOUR_CODE_HERE ... ).fit()\n",
    "YOUR_CODE_HERE\n",
    "```\n",
    "\n",
    "Also, in order to estimate the standard deviation of the error, you can use\n",
    "`results_ols.resid.std()`."
   ]
  },
  {
   "cell_type": "code",
   "execution_count": null,
   "metadata": {},
   "outputs": [],
   "source": []
  },
  {
   "cell_type": "markdown",
   "metadata": {},
   "source": [
    "#### Q13. Approx. how long did it take you to complete this assignment, including the visualization portion? (e.g. 5.5 hours)"
   ]
  },
  {
   "cell_type": "code",
   "execution_count": null,
   "metadata": {},
   "outputs": [],
   "source": []
  }
 ],
 "metadata": {
  "kernelspec": {
   "display_name": "Python 3",
   "language": "python",
   "name": "python3"
  },
  "language_info": {
   "codemirror_mode": {
    "name": "ipython",
    "version": 3
   },
   "file_extension": ".py",
   "mimetype": "text/x-python",
   "name": "python",
   "nbconvert_exporter": "python",
   "pygments_lexer": "ipython3",
   "version": "3.6.5"
  },
  "varInspector": {
   "cols": {
    "lenName": 16,
    "lenType": 16,
    "lenVar": 40
   },
   "kernels_config": {
    "python": {
     "delete_cmd_postfix": "",
     "delete_cmd_prefix": "del ",
     "library": "var_list.py",
     "varRefreshCmd": "print(var_dic_list())"
    },
    "r": {
     "delete_cmd_postfix": ") ",
     "delete_cmd_prefix": "rm(",
     "library": "var_list.r",
     "varRefreshCmd": "cat(var_dic_list()) "
    }
   },
   "types_to_exclude": [
    "module",
    "function",
    "builtin_function_or_method",
    "instance",
    "_Feature"
   ],
   "window_display": false
  }
 },
 "nbformat": 4,
 "nbformat_minor": 2
}
