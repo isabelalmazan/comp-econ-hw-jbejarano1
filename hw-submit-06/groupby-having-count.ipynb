{
  "cells": [
    {
      "metadata": {
        "_cell_guid": "0d7c72bb-92fc-4dd5-aaf1-3f09d5596f70",
        "_uuid": "d806df7cf446e426d20f6f22c0a8f0f3dbc2d01e"
      },
      "cell_type": "markdown",
      "source": "# Get Started\n\nAfter forking this notebook, run the code in the following cell:"
    },
    {
      "metadata": {
        "_cell_guid": "dbc3a790-b44a-4bea-a04a-b68fa2fed4c0",
        "_uuid": "e8e05de6187c3fc6f4bbd50f14db639b62a51bf1",
        "trusted": true
      },
      "cell_type": "code",
      "source": "# import package with helper functions \nimport bq_helper\n\n# create a helper object for this dataset\nhacker_news = bq_helper.BigQueryHelper(active_project=\"bigquery-public-data\",\n                                   dataset_name=\"hacker_news\")\n\n# print the first couple rows of the \"comments\" table\nhacker_news.head(\"comments\")",
      "execution_count": 1,
      "outputs": [
        {
          "data": {
            "text/html": "<div>\n<style scoped>\n    .dataframe tbody tr th:only-of-type {\n        vertical-align: middle;\n    }\n\n    .dataframe tbody tr th {\n        vertical-align: top;\n    }\n\n    .dataframe thead th {\n        text-align: right;\n    }\n</style>\n<table border=\"1\" class=\"dataframe\">\n  <thead>\n    <tr style=\"text-align: right;\">\n      <th></th>\n      <th>id</th>\n      <th>by</th>\n      <th>author</th>\n      <th>time</th>\n      <th>time_ts</th>\n      <th>text</th>\n      <th>parent</th>\n      <th>deleted</th>\n      <th>dead</th>\n      <th>ranking</th>\n    </tr>\n  </thead>\n  <tbody>\n    <tr>\n      <th>0</th>\n      <td>2701393</td>\n      <td>5l</td>\n      <td>5l</td>\n      <td>1309184881</td>\n      <td>2011-06-27 14:28:01+00:00</td>\n      <td>And the glazier who fixed all the broken windo...</td>\n      <td>2701243</td>\n      <td>None</td>\n      <td>None</td>\n      <td>0</td>\n    </tr>\n    <tr>\n      <th>1</th>\n      <td>5811403</td>\n      <td>99</td>\n      <td>99</td>\n      <td>1370234048</td>\n      <td>2013-06-03 04:34:08+00:00</td>\n      <td>Does canada have the equivalent of H1B/Green c...</td>\n      <td>5804452</td>\n      <td>None</td>\n      <td>None</td>\n      <td>0</td>\n    </tr>\n    <tr>\n      <th>2</th>\n      <td>21623</td>\n      <td>AF</td>\n      <td>AF</td>\n      <td>1178992400</td>\n      <td>2007-05-12 17:53:20+00:00</td>\n      <td>Speaking of Rails, there are other options in ...</td>\n      <td>21611</td>\n      <td>None</td>\n      <td>None</td>\n      <td>0</td>\n    </tr>\n    <tr>\n      <th>3</th>\n      <td>10159727</td>\n      <td>EA</td>\n      <td>EA</td>\n      <td>1441206574</td>\n      <td>2015-09-02 15:09:34+00:00</td>\n      <td>Humans and large livestock (and maybe even pet...</td>\n      <td>10159396</td>\n      <td>None</td>\n      <td>None</td>\n      <td>0</td>\n    </tr>\n    <tr>\n      <th>4</th>\n      <td>2988424</td>\n      <td>Iv</td>\n      <td>Iv</td>\n      <td>1315853580</td>\n      <td>2011-09-12 18:53:00+00:00</td>\n      <td>I must say I reacted in the same way when I re...</td>\n      <td>2988179</td>\n      <td>None</td>\n      <td>None</td>\n      <td>0</td>\n    </tr>\n  </tbody>\n</table>\n</div>",
            "text/plain": "         id  by author        time                   time_ts  \\\n0   2701393  5l     5l  1309184881 2011-06-27 14:28:01+00:00   \n1   5811403  99     99  1370234048 2013-06-03 04:34:08+00:00   \n2     21623  AF     AF  1178992400 2007-05-12 17:53:20+00:00   \n3  10159727  EA     EA  1441206574 2015-09-02 15:09:34+00:00   \n4   2988424  Iv     Iv  1315853580 2011-09-12 18:53:00+00:00   \n\n                                                text    parent deleted  dead  \\\n0  And the glazier who fixed all the broken windo...   2701243    None  None   \n1  Does canada have the equivalent of H1B/Green c...   5804452    None  None   \n2  Speaking of Rails, there are other options in ...     21611    None  None   \n3  Humans and large livestock (and maybe even pet...  10159396    None  None   \n4  I must say I reacted in the same way when I re...   2988179    None  None   \n\n   ranking  \n0        0  \n1        0  \n2        0  \n3        0  \n4        0  "
          },
          "execution_count": 1,
          "metadata": {},
          "output_type": "execute_result"
        }
      ]
    },
    {
      "metadata": {
        "_cell_guid": "6a7ed475-eae2-4c91-938e-c4c79505e5aa",
        "_uuid": "6a1bbb475c0e2694150c7aefb9901e62fe1dd303",
        "trusted": true
      },
      "cell_type": "code",
      "source": "hacker_news.list_tables()",
      "execution_count": 2,
      "outputs": [
        {
          "data": {
            "text/plain": "['comments', 'full', 'full_201510', 'stories']"
          },
          "execution_count": 2,
          "metadata": {},
          "output_type": "execute_result"
        }
      ]
    },
    {
      "metadata": {
        "_cell_guid": "b1076dfc-b9ad-4769-8c92-a6c4dae69d19",
        "_uuid": "8f2839f25d086af736a60e9eeb907d3b93b6e0e5"
      },
      "cell_type": "markdown",
      "source": "# Question\nUsing the Hacker News dataset in BigQuery, answer the following questions:\n\n#### 1) How many stories (use the \"id\" column) are there of each type (in the \"type\" column) in the full table?"
    },
    {
      "metadata": {
        "_cell_guid": "d3283163-cc57-45ce-90ff-80eeec921788",
        "_uuid": "05f3cb8a73fa171d67eaf7727bf72b053416eee2",
        "trusted": true
      },
      "cell_type": "code",
      "source": "hacker_news.head(\"full\")",
      "execution_count": 3,
      "outputs": [
        {
          "data": {
            "text/html": "<div>\n<style scoped>\n    .dataframe tbody tr th:only-of-type {\n        vertical-align: middle;\n    }\n\n    .dataframe tbody tr th {\n        vertical-align: top;\n    }\n\n    .dataframe thead th {\n        text-align: right;\n    }\n</style>\n<table border=\"1\" class=\"dataframe\">\n  <thead>\n    <tr style=\"text-align: right;\">\n      <th></th>\n      <th>by</th>\n      <th>score</th>\n      <th>time</th>\n      <th>timestamp</th>\n      <th>title</th>\n      <th>type</th>\n      <th>url</th>\n      <th>text</th>\n      <th>parent</th>\n      <th>deleted</th>\n      <th>dead</th>\n      <th>descendants</th>\n      <th>id</th>\n      <th>ranking</th>\n    </tr>\n  </thead>\n  <tbody>\n    <tr>\n      <th>0</th>\n      <td>marie2006</td>\n      <td>1.0</td>\n      <td>1337576542</td>\n      <td>2012-05-21 05:02:22+00:00</td>\n      <td>Get the Welcome Bar | AddThis</td>\n      <td>story</td>\n      <td>http://undefined/#.T7nMCcqMsbE.hackernews</td>\n      <td></td>\n      <td>NaN</td>\n      <td>None</td>\n      <td>True</td>\n      <td>-1.0</td>\n      <td>4001364</td>\n      <td>None</td>\n    </tr>\n    <tr>\n      <th>1</th>\n      <td>lpelypenko</td>\n      <td>NaN</td>\n      <td>1513571737</td>\n      <td>2017-12-18 04:35:37+00:00</td>\n      <td></td>\n      <td>comment</td>\n      <td></td>\n      <td>will it work on iphone?</td>\n      <td>15949291.0</td>\n      <td>None</td>\n      <td>None</td>\n      <td>NaN</td>\n      <td>15949461</td>\n      <td>None</td>\n    </tr>\n    <tr>\n      <th>2</th>\n      <td>ahamedirshad123</td>\n      <td>NaN</td>\n      <td>1517484916</td>\n      <td>2018-02-01 11:35:16+00:00</td>\n      <td></td>\n      <td>comment</td>\n      <td></td>\n      <td>Funny thing is NRIs, who don&amp;#x27;t have to en...</td>\n      <td>16270801.0</td>\n      <td>None</td>\n      <td>None</td>\n      <td>NaN</td>\n      <td>16281095</td>\n      <td>None</td>\n    </tr>\n    <tr>\n      <th>3</th>\n      <td>pavlik_enemy</td>\n      <td>NaN</td>\n      <td>1476794696</td>\n      <td>2016-10-18 12:44:56+00:00</td>\n      <td></td>\n      <td>comment</td>\n      <td></td>\n      <td>Of course there&amp;#x27;s a reason, that&amp;#x27;s b...</td>\n      <td>12727673.0</td>\n      <td>None</td>\n      <td>None</td>\n      <td>NaN</td>\n      <td>12733830</td>\n      <td>None</td>\n    </tr>\n    <tr>\n      <th>4</th>\n      <td>cwp</td>\n      <td>NaN</td>\n      <td>1391215239</td>\n      <td>2014-02-01 00:40:39+00:00</td>\n      <td></td>\n      <td>comment</td>\n      <td></td>\n      <td>Yes, it would be great if everything always ju...</td>\n      <td>7159926.0</td>\n      <td>None</td>\n      <td>None</td>\n      <td>NaN</td>\n      <td>7160278</td>\n      <td>None</td>\n    </tr>\n  </tbody>\n</table>\n</div>",
            "text/plain": "                by  score        time                 timestamp  \\\n0        marie2006    1.0  1337576542 2012-05-21 05:02:22+00:00   \n1       lpelypenko    NaN  1513571737 2017-12-18 04:35:37+00:00   \n2  ahamedirshad123    NaN  1517484916 2018-02-01 11:35:16+00:00   \n3     pavlik_enemy    NaN  1476794696 2016-10-18 12:44:56+00:00   \n4              cwp    NaN  1391215239 2014-02-01 00:40:39+00:00   \n\n                           title     type  \\\n0  Get the Welcome Bar | AddThis    story   \n1                                 comment   \n2                                 comment   \n3                                 comment   \n4                                 comment   \n\n                                         url  \\\n0  http://undefined/#.T7nMCcqMsbE.hackernews   \n1                                              \n2                                              \n3                                              \n4                                              \n\n                                                text      parent deleted  \\\n0                                                            NaN    None   \n1                            will it work on iphone?  15949291.0    None   \n2  Funny thing is NRIs, who don&#x27;t have to en...  16270801.0    None   \n3  Of course there&#x27;s a reason, that&#x27;s b...  12727673.0    None   \n4  Yes, it would be great if everything always ju...   7159926.0    None   \n\n   dead  descendants        id ranking  \n0  True         -1.0   4001364    None  \n1  None          NaN  15949461    None  \n2  None          NaN  16281095    None  \n3  None          NaN  12733830    None  \n4  None          NaN   7160278    None  "
          },
          "execution_count": 3,
          "metadata": {},
          "output_type": "execute_result"
        }
      ]
    },
    {
      "metadata": {
        "_cell_guid": "79c7e3d0-c299-4dcb-8224-4455121ee9b0",
        "_uuid": "d629ff2d2480ee46fbb7e2d37f6b5fab8052498a",
        "trusted": true
      },
      "cell_type": "code",
      "source": "# Solution\nquery = \"\"\"SELECT count(DISTINCT id), type\n            FROM `bigquery-public-data.hacker_news.full`\n            GROUP BY type\n        \"\"\"\ndf = hacker_news.query_to_pandas_safe(query, max_gb_scanned=0.5)\ndf",
      "execution_count": 4,
      "outputs": [
        {
          "data": {
            "text/html": "<div>\n<style scoped>\n    .dataframe tbody tr th:only-of-type {\n        vertical-align: middle;\n    }\n\n    .dataframe tbody tr th {\n        vertical-align: top;\n    }\n\n    .dataframe thead th {\n        text-align: right;\n    }\n</style>\n<table border=\"1\" class=\"dataframe\">\n  <thead>\n    <tr style=\"text-align: right;\">\n      <th></th>\n      <th>f0_</th>\n      <th>type</th>\n    </tr>\n  </thead>\n  <tbody>\n    <tr>\n      <th>0</th>\n      <td>14022531</td>\n      <td>comment</td>\n    </tr>\n    <tr>\n      <th>1</th>\n      <td>2929318</td>\n      <td>story</td>\n    </tr>\n    <tr>\n      <th>2</th>\n      <td>11873</td>\n      <td>pollopt</td>\n    </tr>\n    <tr>\n      <th>3</th>\n      <td>10527</td>\n      <td>job</td>\n    </tr>\n    <tr>\n      <th>4</th>\n      <td>1735</td>\n      <td>poll</td>\n    </tr>\n  </tbody>\n</table>\n</div>",
            "text/plain": "        f0_     type\n0  14022531  comment\n1   2929318    story\n2     11873  pollopt\n3     10527      job\n4      1735     poll"
          },
          "execution_count": 4,
          "metadata": {},
          "output_type": "execute_result"
        }
      ]
    },
    {
      "metadata": {
        "_cell_guid": "b5bc5e38-198a-4095-b6f2-d6d55023ae5b",
        "_uuid": "6b113649b24408928c49b8577f00bfe18e319a54",
        "trusted": true
      },
      "cell_type": "code",
      "source": "# Solution\nquery = \"\"\"SELECT count(id), type\n            FROM `bigquery-public-data.hacker_news.full`\n            GROUP BY type\n        \"\"\"\ndf = hacker_news.query_to_pandas_safe(query, max_gb_scanned=0.5)\ndf",
      "execution_count": 5,
      "outputs": [
        {
          "data": {
            "text/html": "<div>\n<style scoped>\n    .dataframe tbody tr th:only-of-type {\n        vertical-align: middle;\n    }\n\n    .dataframe tbody tr th {\n        vertical-align: top;\n    }\n\n    .dataframe thead th {\n        text-align: right;\n    }\n</style>\n<table border=\"1\" class=\"dataframe\">\n  <thead>\n    <tr style=\"text-align: right;\">\n      <th></th>\n      <th>f0_</th>\n      <th>type</th>\n    </tr>\n  </thead>\n  <tbody>\n    <tr>\n      <th>0</th>\n      <td>2929318</td>\n      <td>story</td>\n    </tr>\n    <tr>\n      <th>1</th>\n      <td>14022531</td>\n      <td>comment</td>\n    </tr>\n    <tr>\n      <th>2</th>\n      <td>10527</td>\n      <td>job</td>\n    </tr>\n    <tr>\n      <th>3</th>\n      <td>11873</td>\n      <td>pollopt</td>\n    </tr>\n    <tr>\n      <th>4</th>\n      <td>1735</td>\n      <td>poll</td>\n    </tr>\n  </tbody>\n</table>\n</div>",
            "text/plain": "        f0_     type\n0   2929318    story\n1  14022531  comment\n2     10527      job\n3     11873  pollopt\n4      1735     poll"
          },
          "execution_count": 5,
          "metadata": {},
          "output_type": "execute_result"
        }
      ]
    },
    {
      "metadata": {
        "_cell_guid": "1b5237c2-b956-41fe-80f5-4d185e40a126",
        "_uuid": "eb321bab8e85853cbff7c4e70fdc631aa587617e"
      },
      "cell_type": "markdown",
      "source": "#### 2) How many comments have been deleted? (If a comment was deleted the \"deleted\" column in the comments table will have the value \"True\".)"
    },
    {
      "metadata": {
        "_cell_guid": "17c1d2f3-655a-4c05-985f-4f1f345fe368",
        "_uuid": "940a57fa95be21d02981f268d84b684304b86593",
        "trusted": true
      },
      "cell_type": "code",
      "source": "# Solution\nquery = \"\"\"SELECT count(id)\n            FROM `bigquery-public-data.hacker_news.full`\n            WHERE deleted = True AND type = \"comment\"\n        \"\"\"\ndf = hacker_news.query_to_pandas_safe(query, max_gb_scanned=0.5)\ndf",
      "execution_count": 6,
      "outputs": [
        {
          "data": {
            "text/html": "<div>\n<style scoped>\n    .dataframe tbody tr th:only-of-type {\n        vertical-align: middle;\n    }\n\n    .dataframe tbody tr th {\n        vertical-align: top;\n    }\n\n    .dataframe thead th {\n        text-align: right;\n    }\n</style>\n<table border=\"1\" class=\"dataframe\">\n  <thead>\n    <tr style=\"text-align: right;\">\n      <th></th>\n      <th>f0_</th>\n    </tr>\n  </thead>\n  <tbody>\n    <tr>\n      <th>0</th>\n      <td>381965</td>\n    </tr>\n  </tbody>\n</table>\n</div>",
            "text/plain": "      f0_\n0  381965"
          },
          "execution_count": 6,
          "metadata": {},
          "output_type": "execute_result"
        }
      ]
    },
    {
      "metadata": {
        "_cell_guid": "9a8eedc7-52c3-4f63-936e-ad3cfcab03f0",
        "_uuid": "25508f11d71204f4bff4335d947f6fbbd3b201fa",
        "trusted": true
      },
      "cell_type": "code",
      "source": "# Solution\nquery = \"\"\"SELECT count(id), type\n            FROM `bigquery-public-data.hacker_news.full`\n            WHERE deleted = True\n            GROUP BY type\n        \"\"\"\ndf = hacker_news.query_to_pandas_safe(query, max_gb_scanned=0.5)\ndf",
      "execution_count": 7,
      "outputs": [
        {
          "data": {
            "text/html": "<div>\n<style scoped>\n    .dataframe tbody tr th:only-of-type {\n        vertical-align: middle;\n    }\n\n    .dataframe tbody tr th {\n        vertical-align: top;\n    }\n\n    .dataframe thead th {\n        text-align: right;\n    }\n</style>\n<table border=\"1\" class=\"dataframe\">\n  <thead>\n    <tr style=\"text-align: right;\">\n      <th></th>\n      <th>f0_</th>\n      <th>type</th>\n    </tr>\n  </thead>\n  <tbody>\n    <tr>\n      <th>0</th>\n      <td>381965</td>\n      <td>comment</td>\n    </tr>\n    <tr>\n      <th>1</th>\n      <td>128106</td>\n      <td>story</td>\n    </tr>\n    <tr>\n      <th>2</th>\n      <td>534</td>\n      <td>job</td>\n    </tr>\n    <tr>\n      <th>3</th>\n      <td>290</td>\n      <td>pollopt</td>\n    </tr>\n    <tr>\n      <th>4</th>\n      <td>177</td>\n      <td>poll</td>\n    </tr>\n  </tbody>\n</table>\n</div>",
            "text/plain": "      f0_     type\n0  381965  comment\n1  128106    story\n2     534      job\n3     290  pollopt\n4     177     poll"
          },
          "execution_count": 7,
          "metadata": {},
          "output_type": "execute_result"
        }
      ]
    },
    {
      "metadata": {
        "_cell_guid": "5f8c5e7b-853d-45ec-ab93-092c47e45971",
        "_uuid": "dd5691b5813a4fd68a6ccb34d97e6d693458383d"
      },
      "cell_type": "markdown",
      "source": "#### 3) Modify one of the queries you wrote above to use a different aggregate function.\nYou can read about aggregate functions other than COUNT() **[in these docs](https://cloud.google.com/bigquery/docs/reference/standard-sql/functions-and-operators#aggregate-functions)**"
    },
    {
      "metadata": {
        "_cell_guid": "02eabdfe-fa24-41b0-a94a-fd0e9aba8172",
        "_uuid": "587435c6647dc9c86d4c47a224ded128bd799eee",
        "trusted": true
      },
      "cell_type": "code",
      "source": "# Example Solution:\n# What is the time of the most recently deleted of each type\nquery = \"\"\"SELECT MAX(time), type\n            FROM `bigquery-public-data.hacker_news.full`\n            WHERE deleted = True\n            GROUP BY type\n        \"\"\"\ndf = hacker_news.query_to_pandas_safe(query, max_gb_scanned=0.5)\ndf",
      "execution_count": 8,
      "outputs": [
        {
          "data": {
            "text/html": "<div>\n<style scoped>\n    .dataframe tbody tr th:only-of-type {\n        vertical-align: middle;\n    }\n\n    .dataframe tbody tr th {\n        vertical-align: top;\n    }\n\n    .dataframe thead th {\n        text-align: right;\n    }\n</style>\n<table border=\"1\" class=\"dataframe\">\n  <thead>\n    <tr style=\"text-align: right;\">\n      <th></th>\n      <th>f0_</th>\n      <th>type</th>\n    </tr>\n  </thead>\n  <tbody>\n    <tr>\n      <th>0</th>\n      <td>1525273147</td>\n      <td>comment</td>\n    </tr>\n    <tr>\n      <th>1</th>\n      <td>1525270600</td>\n      <td>story</td>\n    </tr>\n    <tr>\n      <th>2</th>\n      <td>1523402597</td>\n      <td>job</td>\n    </tr>\n    <tr>\n      <th>3</th>\n      <td>1519059974</td>\n      <td>pollopt</td>\n    </tr>\n    <tr>\n      <th>4</th>\n      <td>1519578690</td>\n      <td>poll</td>\n    </tr>\n  </tbody>\n</table>\n</div>",
            "text/plain": "          f0_     type\n0  1525273147  comment\n1  1525270600    story\n2  1523402597      job\n3  1519059974  pollopt\n4  1519578690     poll"
          },
          "execution_count": 8,
          "metadata": {},
          "output_type": "execute_result"
        }
      ]
    },
    {
      "metadata": {
        "_cell_guid": "827df875-f5ce-4435-9b6e-3fd44b64c69c",
        "_uuid": "fc08b831741d6e9047b43fcf744f4701527a2ca7"
      },
      "cell_type": "markdown",
      "source": "---\n\n# Keep Going\n[Click here](https://www.kaggle.com/dansbecker/order-by) to move on and learn about the ORDER BY clause.\n\n# Feedback\nBring any questions or feedback to the [Learn Discussion Forum](kaggle.com/learn-forum).\n\n----\n\n*This exercise is part of the [SQL Series](https://www.kaggle.com/learn/sql) on Kaggle Learn.*"
    }
  ],
  "metadata": {
    "kernelspec": {
      "display_name": "Python 3",
      "language": "python",
      "name": "python3"
    },
    "language_info": {
      "name": "python",
      "version": "3.6.5",
      "mimetype": "text/x-python",
      "codemirror_mode": {
        "name": "ipython",
        "version": 3
      },
      "pygments_lexer": "ipython3",
      "nbconvert_exporter": "python",
      "file_extension": ".py"
    }
  },
  "nbformat": 4,
  "nbformat_minor": 1
}