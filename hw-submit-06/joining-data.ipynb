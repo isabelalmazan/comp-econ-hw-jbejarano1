{
  "cells": [
    {
      "metadata": {
        "_cell_guid": "d54d81ca-d086-4b60-b237-ae24169798c9",
        "_uuid": "1a4e4095d0aa8db597c7aab221dca56752f7a39b"
      },
      "cell_type": "markdown",
      "source": "# Get Started\n\nAfter forking this notebook, run the code in the following cell:"
    },
    {
      "metadata": {
        "_cell_guid": "e2aade4e-7b41-4b1b-ab0a-83ca66593210",
        "collapsed": true,
        "_uuid": "f6ef073f89558eeb5d421de99c8f11b77ff029c0",
        "trusted": true
      },
      "cell_type": "code",
      "source": "# import package with helper functions \nimport bq_helper\n\n# create a helper object for this dataset\ngithub = bq_helper.BigQueryHelper(active_project=\"bigquery-public-data\",\n                                              dataset_name=\"github_repos\")",
      "execution_count": 1,
      "outputs": []
    },
    {
      "metadata": {
        "_cell_guid": "b7c25773-8e1e-4a11-86af-29b925dd8ccb",
        "_uuid": "3c099edebc77b1060333faab526e73dc61f81cf5"
      },
      "cell_type": "markdown",
      "source": "Then write the code to answer the question below\n\nFirst, I do some exploration..."
    },
    {
      "metadata": {
        "_cell_guid": "79c7e3d0-c299-4dcb-8224-4455121ee9b0",
        "_uuid": "d629ff2d2480ee46fbb7e2d37f6b5fab8052498a",
        "trusted": true
      },
      "cell_type": "code",
      "source": "github.list_tables()",
      "execution_count": 2,
      "outputs": [
        {
          "output_type": "execute_result",
          "execution_count": 2,
          "data": {
            "text/plain": "['commits',\n 'contents',\n 'files',\n 'languages',\n 'licenses',\n 'sample_commits',\n 'sample_contents',\n 'sample_files',\n 'sample_repos']"
          },
          "metadata": {}
        }
      ]
    },
    {
      "metadata": {
        "_cell_guid": "d8f119a8-c514-4de9-8a85-89d866c5fed6",
        "_uuid": "fa013180af4d410bbd85f6ec1e8d6cd0f65d8041",
        "trusted": true
      },
      "cell_type": "code",
      "source": "github.head('sample_files')",
      "execution_count": 3,
      "outputs": [
        {
          "output_type": "execute_result",
          "execution_count": 3,
          "data": {
            "text/plain": "  repo_name                ref  \\\n0   git/git  refs/heads/master   \n1   np/ling  refs/heads/master   \n2   np/ling  refs/heads/master   \n3   np/ling  refs/heads/master   \n4   np/ling  refs/heads/master   \n\n                                                path   mode  \\\n0                                           RelNotes  40960   \n1       tests/success/plug_compose.t/plug_compose.ll  40960   \n2  fixtures/strict-par-success/parallel_assoc_lef...  40960   \n3  fixtures/sequence/parallel_assoc_2tensor2_left.ll  40960   \n4                        fixtures/success/my_dual.ll  40960   \n\n                                         id  \\\n0  62615ffa4e97803da96aefbc798ab50f949a8db7   \n1  0c1605e4b447158085656487dc477f7670c4bac1   \n2  b59bff84ec03d12fabd3b51a27ed7e39a180097e   \n3  f29523e3fb65702d99478e429eac6f801f32152b   \n4  38a3af095088f90dfc956cb990e893909c3ab286   \n\n                           symlink_target  \n0       Documentation/RelNotes/2.10.0.txt  \n1   ../../../fixtures/all/plug_compose.ll  \n2           ../all/parallel_assoc_left.ll  \n3  ../all/parallel_assoc_2tensor2_left.ll  \n4                       ../all/my_dual.ll  ",
            "text/html": "<div>\n<style scoped>\n    .dataframe tbody tr th:only-of-type {\n        vertical-align: middle;\n    }\n\n    .dataframe tbody tr th {\n        vertical-align: top;\n    }\n\n    .dataframe thead th {\n        text-align: right;\n    }\n</style>\n<table border=\"1\" class=\"dataframe\">\n  <thead>\n    <tr style=\"text-align: right;\">\n      <th></th>\n      <th>repo_name</th>\n      <th>ref</th>\n      <th>path</th>\n      <th>mode</th>\n      <th>id</th>\n      <th>symlink_target</th>\n    </tr>\n  </thead>\n  <tbody>\n    <tr>\n      <th>0</th>\n      <td>git/git</td>\n      <td>refs/heads/master</td>\n      <td>RelNotes</td>\n      <td>40960</td>\n      <td>62615ffa4e97803da96aefbc798ab50f949a8db7</td>\n      <td>Documentation/RelNotes/2.10.0.txt</td>\n    </tr>\n    <tr>\n      <th>1</th>\n      <td>np/ling</td>\n      <td>refs/heads/master</td>\n      <td>tests/success/plug_compose.t/plug_compose.ll</td>\n      <td>40960</td>\n      <td>0c1605e4b447158085656487dc477f7670c4bac1</td>\n      <td>../../../fixtures/all/plug_compose.ll</td>\n    </tr>\n    <tr>\n      <th>2</th>\n      <td>np/ling</td>\n      <td>refs/heads/master</td>\n      <td>fixtures/strict-par-success/parallel_assoc_lef...</td>\n      <td>40960</td>\n      <td>b59bff84ec03d12fabd3b51a27ed7e39a180097e</td>\n      <td>../all/parallel_assoc_left.ll</td>\n    </tr>\n    <tr>\n      <th>3</th>\n      <td>np/ling</td>\n      <td>refs/heads/master</td>\n      <td>fixtures/sequence/parallel_assoc_2tensor2_left.ll</td>\n      <td>40960</td>\n      <td>f29523e3fb65702d99478e429eac6f801f32152b</td>\n      <td>../all/parallel_assoc_2tensor2_left.ll</td>\n    </tr>\n    <tr>\n      <th>4</th>\n      <td>np/ling</td>\n      <td>refs/heads/master</td>\n      <td>fixtures/success/my_dual.ll</td>\n      <td>40960</td>\n      <td>38a3af095088f90dfc956cb990e893909c3ab286</td>\n      <td>../all/my_dual.ll</td>\n    </tr>\n  </tbody>\n</table>\n</div>"
          },
          "metadata": {}
        }
      ]
    },
    {
      "metadata": {
        "_cell_guid": "790674f5-9a5b-47ec-9647-e4e8b94483ae",
        "_uuid": "9f2dba747b7abe04d121693a0f09914ccd20393b",
        "trusted": true
      },
      "cell_type": "code",
      "source": "github.head('sample_commits')",
      "execution_count": 4,
      "outputs": [
        {
          "output_type": "execute_result",
          "execution_count": 4,
          "data": {
            "text/plain": "                                     commit  \\\n0  3eca86e75ec7a7d4b9a9c8091b11676f7bd2a39f   \n1  7158627686f02319c50c8d9d78f75d4c8d126ff2   \n2  9732cafd9dc0206479be919baf0067239f0a63ca   \n3  4702abd3f9728893ad5b0f4389e1902588510459   \n4  57bd4b91a6cfc5bad4c5d829ef85293ea63643ea   \n\n                                       tree  \\\n0  8e1b4380409a85a922ee0d3f622b5dd4d16bcfad   \n1  3b4d781bd966f07cad1b67b137f0ff8b89430e9a   \n2  c8878035ac9cb6dce592957f12dc1723a583989d   \n3  32926e7c55ef585d9b9c174a0e5f9ed13ed6bf7e   \n4  2ffc2066eb7638e185663e9d849663403229d4e5   \n\n                                       parent  \\\n0  [104a0c02e8b1936c049e18a6d4e4ab040fb61213]   \n1  [66aa8d6a145b6a66566b4fce219cc56c3d0e01c3]   \n2  [f3c003f72dfb2497056bcbb864885837a1968ed5]   \n3  [ddf28352b80c86754a6424e3a61e8bdf9213b3c7]   \n4  [f74c95c20bad8e183e41283475f68a3e7b247af4]   \n\n                                              author  \\\n0  {'name': 'Mark Rutland', 'email': '1db9dd262be...   \n1  {'name': 'Will Deacon', 'email': 'b913f13ef92a...   \n2  {'name': 'Jiang Liu', 'email': 'c745fa7b96fe79...   \n3  {'name': 'Nicolas Pitre', 'email': '408789a210...   \n4  {'name': 'Ben Dooks', 'email': '1177f64998f284...   \n\n                                           committer  \\\n0  {'name': 'Catalin Marinas', 'email': '15ce75b2...   \n1  {'name': 'Catalin Marinas', 'email': '15ce75b2...   \n2  {'name': 'Catalin Marinas', 'email': '15ce75b2...   \n3  {'name': 'Arnd Bergmann', 'email': 'f2c659f019...   \n4  {'name': 'Ben Dooks', 'email': '1177f64998f284...   \n\n                                             subject  \\\n0             arm64: Remove fixmap include fragility   \n1  arm64: percpu: implement optimised pcpu access...   \n2  arm64, jump label: optimize jump label impleme...   \n3                           ARM: mach-nuc93x: delete   \n4  [ARM] S3C24XX: Movev udc headers to arch/arm/p...   \n\n                                             message  \\\n0  arm64: Remove fixmap include fragility\\n\\nThe ...   \n1  arm64: percpu: implement optimised pcpu access...   \n2  arm64, jump label: optimize jump label impleme...   \n3  ARM: mach-nuc93x: delete\\n\\nThis architecture ...   \n4  [ARM] S3C24XX: Movev udc headers to arch/arm/p...   \n\n                                             trailer  \\\n0  [{'key': 'Signed-off-by', 'value': 'Mark Rutla...   \n1  [{'key': 'Signed-off-by', 'value': 'Will Deaco...   \n2  [{'key': 'Reviewed-by', 'value': 'Will Deacon ...   \n3  [{'key': 'Signed-off-by', 'value': 'Nicolas Pi...   \n4  [{'key': 'Signed-off-by', 'value': 'Ben Dooks ...   \n\n                                          difference difference_truncated  \\\n0  [{'old_mode': 33188, 'new_mode': 33188, 'old_p...                 None   \n1  [{'old_mode': 33188, 'new_mode': 33188, 'old_p...                 None   \n2  [{'old_mode': 33188, 'new_mode': 33188, 'old_p...                 None   \n3  [{'old_mode': 33188, 'new_mode': 33188, 'old_p...                 None   \n4  [{'old_mode': 33188, 'new_mode': 33188, 'old_p...                 None   \n\n        repo_name encoding  \n0  torvalds/linux     None  \n1  torvalds/linux     None  \n2  torvalds/linux     None  \n3  torvalds/linux     None  \n4  torvalds/linux     None  ",
            "text/html": "<div>\n<style scoped>\n    .dataframe tbody tr th:only-of-type {\n        vertical-align: middle;\n    }\n\n    .dataframe tbody tr th {\n        vertical-align: top;\n    }\n\n    .dataframe thead th {\n        text-align: right;\n    }\n</style>\n<table border=\"1\" class=\"dataframe\">\n  <thead>\n    <tr style=\"text-align: right;\">\n      <th></th>\n      <th>commit</th>\n      <th>tree</th>\n      <th>parent</th>\n      <th>author</th>\n      <th>committer</th>\n      <th>subject</th>\n      <th>message</th>\n      <th>trailer</th>\n      <th>difference</th>\n      <th>difference_truncated</th>\n      <th>repo_name</th>\n      <th>encoding</th>\n    </tr>\n  </thead>\n  <tbody>\n    <tr>\n      <th>0</th>\n      <td>3eca86e75ec7a7d4b9a9c8091b11676f7bd2a39f</td>\n      <td>8e1b4380409a85a922ee0d3f622b5dd4d16bcfad</td>\n      <td>[104a0c02e8b1936c049e18a6d4e4ab040fb61213]</td>\n      <td>{'name': 'Mark Rutland', 'email': '1db9dd262be...</td>\n      <td>{'name': 'Catalin Marinas', 'email': '15ce75b2...</td>\n      <td>arm64: Remove fixmap include fragility</td>\n      <td>arm64: Remove fixmap include fragility\\n\\nThe ...</td>\n      <td>[{'key': 'Signed-off-by', 'value': 'Mark Rutla...</td>\n      <td>[{'old_mode': 33188, 'new_mode': 33188, 'old_p...</td>\n      <td>None</td>\n      <td>torvalds/linux</td>\n      <td>None</td>\n    </tr>\n    <tr>\n      <th>1</th>\n      <td>7158627686f02319c50c8d9d78f75d4c8d126ff2</td>\n      <td>3b4d781bd966f07cad1b67b137f0ff8b89430e9a</td>\n      <td>[66aa8d6a145b6a66566b4fce219cc56c3d0e01c3]</td>\n      <td>{'name': 'Will Deacon', 'email': 'b913f13ef92a...</td>\n      <td>{'name': 'Catalin Marinas', 'email': '15ce75b2...</td>\n      <td>arm64: percpu: implement optimised pcpu access...</td>\n      <td>arm64: percpu: implement optimised pcpu access...</td>\n      <td>[{'key': 'Signed-off-by', 'value': 'Will Deaco...</td>\n      <td>[{'old_mode': 33188, 'new_mode': 33188, 'old_p...</td>\n      <td>None</td>\n      <td>torvalds/linux</td>\n      <td>None</td>\n    </tr>\n    <tr>\n      <th>2</th>\n      <td>9732cafd9dc0206479be919baf0067239f0a63ca</td>\n      <td>c8878035ac9cb6dce592957f12dc1723a583989d</td>\n      <td>[f3c003f72dfb2497056bcbb864885837a1968ed5]</td>\n      <td>{'name': 'Jiang Liu', 'email': 'c745fa7b96fe79...</td>\n      <td>{'name': 'Catalin Marinas', 'email': '15ce75b2...</td>\n      <td>arm64, jump label: optimize jump label impleme...</td>\n      <td>arm64, jump label: optimize jump label impleme...</td>\n      <td>[{'key': 'Reviewed-by', 'value': 'Will Deacon ...</td>\n      <td>[{'old_mode': 33188, 'new_mode': 33188, 'old_p...</td>\n      <td>None</td>\n      <td>torvalds/linux</td>\n      <td>None</td>\n    </tr>\n    <tr>\n      <th>3</th>\n      <td>4702abd3f9728893ad5b0f4389e1902588510459</td>\n      <td>32926e7c55ef585d9b9c174a0e5f9ed13ed6bf7e</td>\n      <td>[ddf28352b80c86754a6424e3a61e8bdf9213b3c7]</td>\n      <td>{'name': 'Nicolas Pitre', 'email': '408789a210...</td>\n      <td>{'name': 'Arnd Bergmann', 'email': 'f2c659f019...</td>\n      <td>ARM: mach-nuc93x: delete</td>\n      <td>ARM: mach-nuc93x: delete\\n\\nThis architecture ...</td>\n      <td>[{'key': 'Signed-off-by', 'value': 'Nicolas Pi...</td>\n      <td>[{'old_mode': 33188, 'new_mode': 33188, 'old_p...</td>\n      <td>None</td>\n      <td>torvalds/linux</td>\n      <td>None</td>\n    </tr>\n    <tr>\n      <th>4</th>\n      <td>57bd4b91a6cfc5bad4c5d829ef85293ea63643ea</td>\n      <td>2ffc2066eb7638e185663e9d849663403229d4e5</td>\n      <td>[f74c95c20bad8e183e41283475f68a3e7b247af4]</td>\n      <td>{'name': 'Ben Dooks', 'email': '1177f64998f284...</td>\n      <td>{'name': 'Ben Dooks', 'email': '1177f64998f284...</td>\n      <td>[ARM] S3C24XX: Movev udc headers to arch/arm/p...</td>\n      <td>[ARM] S3C24XX: Movev udc headers to arch/arm/p...</td>\n      <td>[{'key': 'Signed-off-by', 'value': 'Ben Dooks ...</td>\n      <td>[{'old_mode': 33188, 'new_mode': 33188, 'old_p...</td>\n      <td>None</td>\n      <td>torvalds/linux</td>\n      <td>None</td>\n    </tr>\n  </tbody>\n</table>\n</div>"
          },
          "metadata": {}
        }
      ]
    },
    {
      "metadata": {
        "_cell_guid": "b1076dfc-b9ad-4769-8c92-a6c4dae69d19",
        "_uuid": "8f2839f25d086af736a60e9eeb907d3b93b6e0e5"
      },
      "cell_type": "markdown",
      "source": "# Question\n\n#### 1)  How many commits (recorded in the \"sample_commits\" table) have been made in repos written in the Python programming language? (I'm looking for the number of commits per repo for all the repos written in Python.\n* You'll want to JOIN the sample_files and sample_commits questions to answer this.\n* **Hint:** You can figure out which files are written in Python by filtering results from the \"sample_files\" table using `WHERE path LIKE '%.py'`. This will return results where the \"path\" column ends in the text \".py\", which is one way to identify which files have Python code."
    },
    {
      "metadata": {
        "_cell_guid": "9d3ac8ba-2b8c-4751-af6b-1b634d70b068",
        "collapsed": true,
        "_uuid": "e1fea44d609ec69f34cde5205c2aa4fd27d26541",
        "trusted": true
      },
      "cell_type": "code",
      "source": "query = \"\"\"\n        SELECT sf.repo_name, COUNT(sc.commit) as number_of_commits\n        FROM `bigquery-public-data.github_repos.sample_files` as sf\n        INNER JOIN `bigquery-public-data.github_repos.sample_commits` as sc\n            ON sf.repo_name = sc.repo_name\n        WHERE path LIKE '%.py'\n        GROUP BY sf.repo_name\n        ORDER BY number_of_commits\n        \"\"\"",
      "execution_count": 5,
      "outputs": []
    },
    {
      "metadata": {
        "_cell_guid": "ef2d8d69-ca8e-4164-a1b2-d4754f089975",
        "_uuid": "df527dd79913abbc73f1e9841692452c74a25c60",
        "trusted": true
      },
      "cell_type": "code",
      "source": "github.estimate_query_size(query)",
      "execution_count": 6,
      "outputs": [
        {
          "output_type": "execute_result",
          "execution_count": 6,
          "data": {
            "text/plain": "5.271098022349179"
          },
          "metadata": {}
        }
      ]
    },
    {
      "metadata": {
        "_cell_guid": "40f5dad5-63eb-487e-a28e-fcbcc0d62625",
        "_uuid": "eda020a914513e8f6e0048491fe3b8e7859e3df7",
        "trusted": true
      },
      "cell_type": "code",
      "source": "python_commits = github.query_to_pandas_safe(query, max_gb_scanned=8)\npython_commits.head()",
      "execution_count": 7,
      "outputs": [
        {
          "output_type": "execute_result",
          "execution_count": 7,
          "data": {
            "text/plain": "               repo_name  number_of_commits\n0       Microsoft/vscode               6909\n1         facebook/react              13750\n2            apple/swift            4044664\n3  tensorflow/tensorflow            4128858\n4         torvalds/linux           23501556",
            "text/html": "<div>\n<style scoped>\n    .dataframe tbody tr th:only-of-type {\n        vertical-align: middle;\n    }\n\n    .dataframe tbody tr th {\n        vertical-align: top;\n    }\n\n    .dataframe thead th {\n        text-align: right;\n    }\n</style>\n<table border=\"1\" class=\"dataframe\">\n  <thead>\n    <tr style=\"text-align: right;\">\n      <th></th>\n      <th>repo_name</th>\n      <th>number_of_commits</th>\n    </tr>\n  </thead>\n  <tbody>\n    <tr>\n      <th>0</th>\n      <td>Microsoft/vscode</td>\n      <td>6909</td>\n    </tr>\n    <tr>\n      <th>1</th>\n      <td>facebook/react</td>\n      <td>13750</td>\n    </tr>\n    <tr>\n      <th>2</th>\n      <td>apple/swift</td>\n      <td>4044664</td>\n    </tr>\n    <tr>\n      <th>3</th>\n      <td>tensorflow/tensorflow</td>\n      <td>4128858</td>\n    </tr>\n    <tr>\n      <th>4</th>\n      <td>torvalds/linux</td>\n      <td>23501556</td>\n    </tr>\n  </tbody>\n</table>\n</div>"
          },
          "metadata": {}
        }
      ]
    },
    {
      "metadata": {
        "_cell_guid": "7a5d8c3b-86d6-4c5c-bdd1-7df1bc96a0bd",
        "_uuid": "71bf031898b72c4fe1b1e8f66581b3fa135de12d"
      },
      "cell_type": "markdown",
      "source": "# Feedback\nBring any questions or feedback to the [Learn Discussion Forum](kaggle.com/learn-forum).\n\n# Congratulations\nBy now, you know all the key components to use BigQuery and SQL effectively.\n\nWant to go play with your new powers?  Kaggle has BigQuery datasets available [here](https://www.kaggle.com/datasets?filetype=bigQuery)."
    }
  ],
  "metadata": {
    "kernelspec": {
      "display_name": "Python 3",
      "language": "python",
      "name": "python3"
    },
    "language_info": {
      "name": "python",
      "version": "3.6.5",
      "mimetype": "text/x-python",
      "codemirror_mode": {
        "name": "ipython",
        "version": 3
      },
      "pygments_lexer": "ipython3",
      "nbconvert_exporter": "python",
      "file_extension": ".py"
    }
  },
  "nbformat": 4,
  "nbformat_minor": 1
}