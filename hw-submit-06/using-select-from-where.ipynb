{
  "cells": [
    {
      "metadata": {
        "_cell_guid": "b1076dfc-b9ad-4769-8c92-a6c4dae69d19",
        "_uuid": "8f2839f25d086af736a60e9eeb907d3b93b6e0e5"
      },
      "cell_type": "markdown",
      "source": "# Get Started\nFork this notebook by hitting the blue \"Fork Notebook\" button at the top of this page.  \"Forking\" makes a copy that you can edit on your own without changing the original.\n\nAfter forking this notebook, run the code in the following cell."
    },
    {
      "metadata": {
        "_cell_guid": "581115e3-6443-4d88-aebc-2b7b64e10312",
        "_uuid": "10e9310686ffa8666fddf643693d27bf6c2da62f",
        "trusted": false,
        "collapsed": true
      },
      "cell_type": "code",
      "source": "# import package with helper functions \nimport bq_helper\n\n# create a helper object for this dataset\nopen_aq = bq_helper.BigQueryHelper(active_project=\"bigquery-public-data\",\n                                   dataset_name=\"openaq\")\n\n# print all the tables in this dataset (there's only one!)\nopen_aq.list_tables()",
      "execution_count": null,
      "outputs": []
    },
    {
      "metadata": {
        "_cell_guid": "6c5a2cf7-e634-49fe-8f66-fec2386128e2",
        "_uuid": "40f9f29f2ff5f355747bcd8ddb83bf5beecdb04e"
      },
      "cell_type": "markdown",
      "source": "Then write and run the code to answer the questions below."
    },
    {
      "metadata": {
        "_cell_guid": "00f8161f-9d76-4740-b6b1-d245b00f4587",
        "_uuid": "e0c53920e3b893930976a772c17f67f9781087ec"
      },
      "cell_type": "markdown",
      "source": "# Question\n\n#### 1) Which countries use a unit other than ppm to measure any type of pollution? \n(Hint: to get rows where the value *isn't* something, use \"!=\")"
    },
    {
      "metadata": {
        "_cell_guid": "8917c7fc-43d2-4897-80ff-ecbfd9efb895",
        "_uuid": "b9c8137f2194aeaf064e5ecce52d0e0e9db734a1",
        "trusted": false,
        "collapsed": true
      },
      "cell_type": "code",
      "source": "open_aq.head('global_air_quality')",
      "execution_count": null,
      "outputs": []
    },
    {
      "metadata": {
        "collapsed": true,
        "_cell_guid": "c25c28bc-5462-4248-9634-4c10f450de2b",
        "_uuid": "906d319fe493d649848ef834f0f9dd68a67bdc08",
        "trusted": false
      },
      "cell_type": "code",
      "source": "# Solution\nquery = \"\"\"SELECT DISTINCT country\n            FROM `bigquery-public-data.openaq.global_air_quality`\n            WHERE unit != 'ppm'\n        \"\"\"\ncountries = open_aq.query_to_pandas_safe(query, max_gb_scanned=0.01)",
      "execution_count": null,
      "outputs": []
    },
    {
      "metadata": {
        "_cell_guid": "b805c5a8-9206-451e-a120-d693aa6e44f8",
        "_uuid": "6cd3045f6056109bd827526930f3a4545a35d03f"
      },
      "cell_type": "markdown",
      "source": "Extra information to verify that we have done the query correctly"
    },
    {
      "metadata": {
        "collapsed": true,
        "_cell_guid": "5a72b5aa-e86a-4811-9f7e-348048be71a3",
        "_uuid": "34193286c6abbfc28fcb1d729493950253befcfb",
        "trusted": false
      },
      "cell_type": "code",
      "source": "query = \"\"\"SELECT DISTINCT country, unit\n            FROM `bigquery-public-data.openaq.global_air_quality`\n        \"\"\"\n# the query_to_pandas_safe will only return a result if it's less\n# than one gigabyte (by default)\nall_countries = open_aq.query_to_pandas_safe(query, max_gb_scanned=0.01)",
      "execution_count": null,
      "outputs": []
    },
    {
      "metadata": {
        "_cell_guid": "53d1d4ff-805f-47e7-8142-af74981446fd",
        "_uuid": "d39b9ab1aa5a9644feb7806c90161a3a5b681429",
        "trusted": false,
        "collapsed": true
      },
      "cell_type": "code",
      "source": "all_countries.shape",
      "execution_count": null,
      "outputs": []
    },
    {
      "metadata": {
        "_cell_guid": "87ff83fa-1d29-4c3f-8ec3-d20f7e92a881",
        "_uuid": "9835a52b44ccaf407075f0417b74a581cefe9998",
        "trusted": false,
        "collapsed": true
      },
      "cell_type": "code",
      "source": "all_countries[all_countries.unit != 'ppm'].sort_values('country')",
      "execution_count": null,
      "outputs": []
    },
    {
      "metadata": {
        "collapsed": true,
        "_cell_guid": "ba5f4fbe-72ce-4ccc-8f43-d1077f5342c5",
        "_uuid": "1f900be84c613960ef68509f97c950512829cf06",
        "trusted": false
      },
      "cell_type": "code",
      "source": "query = \"\"\"SELECT DISTINCT country\n            FROM `bigquery-public-data.openaq.global_air_quality`\n            WHERE unit != 'ppm'\n        \"\"\"\n# the query_to_pandas_safe will only return a result if it's less\n# than one gigabyte (by default)\ncountries = open_aq.query_to_pandas_safe(query, max_gb_scanned=0.01)",
      "execution_count": null,
      "outputs": []
    },
    {
      "metadata": {
        "_cell_guid": "1bfff323-e6f8-4fb6-8d76-f6127a702132",
        "_uuid": "38766581861fa0bb44e06d3a8c4663fdc36d8104",
        "trusted": false,
        "collapsed": true
      },
      "cell_type": "code",
      "source": "countries.info()",
      "execution_count": null,
      "outputs": []
    },
    {
      "metadata": {
        "_cell_guid": "fee1c366-63f8-4136-b017-5f9a896ee6d1",
        "_uuid": "fc81bd2d62e44a1708e04cd93d7bbe798b275f04",
        "trusted": false,
        "collapsed": true
      },
      "cell_type": "code",
      "source": "all(countries.sort_values('country').country.reset_index(drop=True) ==  all_countries[all_countries.unit != 'ppm'].sort_values('country').country.reset_index(drop=True))",
      "execution_count": null,
      "outputs": []
    },
    {
      "metadata": {
        "_cell_guid": "f50aa855-5ae4-4dbd-a7f4-1c0940a76e41",
        "_uuid": "a527d39f5e9e31ae5476505249d1136558e97ede"
      },
      "cell_type": "markdown",
      "source": "#### 2) Which pollutants have a value of exactly 0?"
    },
    {
      "metadata": {
        "_cell_guid": "5ea6f40f-b905-4961-82f5-db7deadca803",
        "_uuid": "035a6b5858439358217a448f6734e0aee1fb2909",
        "trusted": false,
        "collapsed": true
      },
      "cell_type": "code",
      "source": "open_aq.head('global_air_quality')",
      "execution_count": null,
      "outputs": []
    },
    {
      "metadata": {
        "collapsed": true,
        "_cell_guid": "0bfeb274-f8ed-4710-a6db-e1e6457e78c4",
        "_uuid": "ac2253ac8ff931cf984f4c80f4fee1aafaa71789",
        "trusted": false
      },
      "cell_type": "code",
      "source": "query = \"\"\"SELECT DISTINCT pollutant\n            FROM `bigquery-public-data.openaq.global_air_quality`\n            WHERE value = 0.0\n        \"\"\"\n# the query_to_pandas_safe will only return a result if it's less\n# than one gigabyte (by default)\npollutants = open_aq.query_to_pandas_safe(query, max_gb_scanned=0.01)",
      "execution_count": null,
      "outputs": []
    },
    {
      "metadata": {
        "_cell_guid": "11d9f221-761a-4e78-8e03-72df01ac7a69",
        "_uuid": "c27aaeffb100327c4e78522599c5b42db14508ae",
        "trusted": false,
        "collapsed": true
      },
      "cell_type": "code",
      "source": "pollutants",
      "execution_count": null,
      "outputs": []
    },
    {
      "metadata": {
        "_cell_guid": "3b323b31-ee71-466f-a328-3b6f83598878",
        "_uuid": "2601df8b4255ca1087f794e6f39ca04107e93de6"
      },
      "cell_type": "markdown",
      "source": "# Keep Going\nAfter finishing this exercise, click [here](https://www.kaggle.com/dansbecker/group-by-having-count/).  You will learn about the **GROUP BY** command and its extensions.  This is especially valuable in large datasets like what you find in BigQuery.\n\n# Help and Feedback \nBring any comments or questions to the [Learn Discussion Forum](https://www.kaggle.com/learn-forum).\n\nIf you want comments or help on your code, make it \"public\" first using the \"Settings\" tab on this page.\n\n---\n\n*This tutorial is part of the [SQL Series](https://www.kaggle.com/learn/sql) on Kaggle Learn.*"
    }
  ],
  "metadata": {
    "language_info": {
      "name": "python",
      "version": "3.6.5",
      "mimetype": "text/x-python",
      "codemirror_mode": {
        "name": "ipython",
        "version": 3
      },
      "pygments_lexer": "ipython3",
      "nbconvert_exporter": "python",
      "file_extension": ".py"
    },
    "kernelspec": {
      "display_name": "Python 3",
      "language": "python",
      "name": "python3"
    }
  },
  "nbformat": 4,
  "nbformat_minor": 1
}